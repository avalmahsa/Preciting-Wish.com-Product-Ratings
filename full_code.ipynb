{
  "nbformat": 4,
  "nbformat_minor": 0,
  "metadata": {
    "colab": {
      "name": "CISC873_Assign0.ipynb",
      "provenance": [],
      "collapsed_sections": []
    },
    "kernelspec": {
      "name": "python3",
      "display_name": "Python 3"
    }
  },
  "cells": [
    {
      "cell_type": "markdown",
      "metadata": {
        "id": "rrgLMLrHSgrI"
      },
      "source": [
        "## **CISC873_Assignment0**\n",
        "\n",
        "Mahsa Aghaeeaval (10177616)"
      ]
    },
    {
      "cell_type": "markdown",
      "metadata": {
        "id": "fDuzZDXsTBHt"
      },
      "source": [
        "# Problem Definition\n",
        "\n",
        "Predicting product rating from Wish.com dataset. I will start by emplementing data exploration techniques to evalute the nature and significant of given features. I will pre-process the data to only contain valuable information used in model prediction. Several models will be hypertuned and compared based on their F-score (mean F-score). \n",
        "\n",
        "Steps:\n",
        "\n",
        "1. Loading data / libraries\n",
        "\n",
        "2. Data exploration\n",
        "\n",
        "3. Data pre-processing\n",
        "\n",
        "4. Normalizing / Scaling\n",
        "\n",
        "5. Final data preparation\n",
        "\n",
        "6. Modeling and performance evaluation\n",
        "\n",
        "7. Feature evaluation\n",
        "\n",
        "8. Findings\n",
        "\n",
        "9. Predict rating for test_new.csv to be sumbitted on Kaggle"
      ]
    },
    {
      "cell_type": "markdown",
      "metadata": {
        "id": "n_8Ebob-U44P"
      },
      "source": [
        "# Loading Data / Libraries"
      ]
    },
    {
      "cell_type": "code",
      "metadata": {
        "id": "mZkaW0S0bYSu"
      },
      "source": [
        "# list of code resources used"
      ],
      "execution_count": null,
      "outputs": []
    },
    {
      "cell_type": "code",
      "metadata": {
        "id": "QR6fxWY8XbuQ",
        "outputId": "0af8bc0c-82a3-4e07-e922-e9015edef888",
        "colab": {
          "base_uri": "https://localhost:8080/",
          "height": 105
        }
      },
      "source": [
        "# libriaries used are loaded\n",
        "\n",
        "\n",
        "from google.colab import drive\n",
        "import pandas as pd\n",
        "import numpy as np\n",
        "import matplotlib.pyplot as plt\n",
        "import seaborn as sns\n",
        "from sklearn import preprocessing\n",
        "\n",
        "\n",
        "from sklearn.model_selection import train_test_split\n",
        "from sklearn.metrics import f1_score\n",
        "from sklearn.model_selection import cross_val_predict\n",
        "from statistics import mean, stdev\n",
        "from imblearn.over_sampling import RandomOverSampler\n",
        "from sklearn.model_selection import KFold,train_test_split,cross_val_score\n",
        "\n",
        "\n",
        "from sklearn.tree import DecisionTreeClassifier\n",
        "from sklearn.ensemble import RandomForestClassifier\n",
        "from sklearn.neural_network import MLPClassifier\n",
        "from sklearn.ensemble import AdaBoostClassifier\n",
        "from sklearn.ensemble import VotingClassifier"
      ],
      "execution_count": null,
      "outputs": [
        {
          "output_type": "stream",
          "text": [
            "/usr/local/lib/python3.6/dist-packages/sklearn/externals/six.py:31: FutureWarning: The module is deprecated in version 0.21 and will be removed in version 0.23 since we've dropped support for Python 2.7. Please rely on the official version of six (https://pypi.org/project/six/).\n",
            "  \"(https://pypi.org/project/six/).\", FutureWarning)\n",
            "/usr/local/lib/python3.6/dist-packages/sklearn/utils/deprecation.py:144: FutureWarning: The sklearn.neighbors.base module is  deprecated in version 0.22 and will be removed in version 0.24. The corresponding classes / functions should instead be imported from sklearn.neighbors. Anything that cannot be imported from sklearn.neighbors is now part of the private API.\n",
            "  warnings.warn(message, FutureWarning)\n"
          ],
          "name": "stderr"
        }
      ]
    },
    {
      "cell_type": "code",
      "metadata": {
        "id": "e_TI3JdhSXbF",
        "outputId": "62213087-f406-4507-b7f0-6a016f908a80",
        "colab": {
          "base_uri": "https://localhost:8080/",
          "height": 34
        }
      },
      "source": [
        "# grab dataset from google drive\n",
        "\n",
        "\n",
        "drive.mount('/content/drive')\n",
        "\n",
        "# loading the train_new.csv data as a pandas dataframe\n",
        "df = pd.read_csv(\"/content/drive/My Drive/train_new.csv\")\n",
        "\n",
        "\n",
        "# loading the test_new.csv data as a pandas dataframe to be used later for kaggle prediction\n",
        "df_test_for_kaggle = pd.read_csv(\"/content/drive/My Drive/test_new.csv\")"
      ],
      "execution_count": null,
      "outputs": [
        {
          "output_type": "stream",
          "text": [
            "Drive already mounted at /content/drive; to attempt to forcibly remount, call drive.mount(\"/content/drive\", force_remount=True).\n"
          ],
          "name": "stdout"
        }
      ]
    },
    {
      "cell_type": "code",
      "metadata": {
        "id": "wa_ozanxPJVb",
        "outputId": "cd481a34-3fc3-4a67-f565-4dd000e4083b",
        "colab": {
          "base_uri": "https://localhost:8080/",
          "height": 221
        }
      },
      "source": [
        "df_test_id = pd.read_csv(\"/content/drive/My Drive/test_new.csv\")\n",
        "test_id=df_test_id['id']\n",
        "print(test_id)"
      ],
      "execution_count": null,
      "outputs": [
        {
          "output_type": "stream",
          "text": [
            "0       937\n",
            "1       270\n",
            "2       308\n",
            "3       913\n",
            "4       403\n",
            "       ... \n",
            "474    1166\n",
            "475    1416\n",
            "476      63\n",
            "477     626\n",
            "478     196\n",
            "Name: id, Length: 479, dtype: int64\n"
          ],
          "name": "stdout"
        }
      ]
    },
    {
      "cell_type": "markdown",
      "metadata": {
        "id": "vRbqzv56WpXV"
      },
      "source": [
        "# Data exploration"
      ]
    },
    {
      "cell_type": "code",
      "metadata": {
        "id": "ACJqW_84W15r"
      },
      "source": [
        "# peak into data\n",
        "\n",
        "# print first and last few rows of the dataset\n",
        "print(df.head())\n",
        "print(df.tail())\n",
        "\n",
        "# print all column headers + type\n",
        "print(df.info())\n",
        "\n",
        "# checking for missing values for every feature\n",
        "df.isnull().sum()\n",
        "\n",
        "#NOTES: These statistics will show how the data is structured and what it cocntains and gives an idea how much 'fun' this is going to be"
      ],
      "execution_count": null,
      "outputs": []
    },
    {
      "cell_type": "code",
      "metadata": {
        "id": "GSsVy5i9Y0Y7"
      },
      "source": [
        "# synonym features check\n",
        "\n",
        "# heat correlation map to check to for synonym columsn (identical or almost identical faetures)\n",
        "plt.figure(figsize = (20, 10))\n",
        "sns.heatmap(df.corr(), annot = True, cmap = 'coolwarm', center = 0)\n",
        "plt.show()\n",
        "\n",
        "#NOTES: heat map correlation map can be used to identify near identical features (columns) if they are highly correlated"
      ],
      "execution_count": null,
      "outputs": []
    },
    {
      "cell_type": "code",
      "metadata": {
        "id": "v-mkDYUGZXrz"
      },
      "source": [
        "# uni-value features chck\n",
        "\n",
        "# check to for uni-value columns\n",
        "def is_unique(s):\n",
        "    a = s.to_numpy()\n",
        "    return (a[0] == a).all()\n",
        "# returns True if all values of a feature are the same\n",
        "is_unique(df['currency_buyer']) # replace 'currency_buyer' with any feature you want to check\n",
        "\n",
        "#NOTES: checking for features that have the same or mostly the same values for every row as they are not descriptive enough "
      ],
      "execution_count": null,
      "outputs": []
    },
    {
      "cell_type": "code",
      "metadata": {
        "id": "Yqg2hAjWbDNo",
        "outputId": "5090b4a8-cfd1-49ca-b7e8-aefa034cd631",
        "colab": {
          "base_uri": "https://localhost:8080/",
          "height": 1000
        }
      },
      "source": [
        "# feature distribution check\n",
        "\n",
        "# checking the ditribution of features\n",
        "select_feature = df['rating'] # replace 'rating' with any feature you want to check\n",
        "\n",
        "feature_distribution_hist = plt.hist(select_feature) # dist using his\n",
        "plt.show()\n",
        "\n",
        "feature_distribution_kde = sns.kdeplot(select_feature) # dist using kde\n",
        "plt.show()\n",
        "\n",
        "# stats summary of features\n",
        "print(round(df.describe().T))\n",
        "print(df.median())\n",
        "\n",
        "\n",
        "#NOTES: checking the distribution helps understand the feature in terms of its range. It will help see if the values are centered or scattered.\n",
        "#NOTES: I am checking with 2 graphs (kde and histogram) since some feature are better represented using one\n",
        "#NOTES: I included stats summary (mean) and median to mathematically check to see if any features are heavily + or - skewed"
      ],
      "execution_count": null,
      "outputs": [
        {
          "output_type": "display_data",
          "data": {
            "image/png": "[encoded data removed]",
            "text/plain": [
              "<Figure size 432x288 with 1 Axes>"
            ]
          },
          "metadata": {
            "tags": [],
            "needs_background": "light"
          }
        },
        {
          "output_type": "display_data",
          "data": {
            "image/png": "[encoded data removed]",
            "text/plain": [
              "<Figure size 432x288 with 1 Axes>"
            ]
          },
          "metadata": {
            "tags": [],
            "needs_background": "light"
          }
        },
        {
          "output_type": "stream",
          "text": [
            "                               count     mean  ...      75%        max\n",
            "price                         1094.0      8.0  ...     11.0       49.0\n",
            "retail_price                  1094.0     24.0  ...     26.0      252.0\n",
            "units_sold                    1094.0   4519.0  ...   5000.0   100000.0\n",
            "uses_ad_boosts                1094.0      0.0  ...      1.0        1.0\n",
            "rating                        1094.0      4.0  ...      4.0        6.0\n",
            "rating_count                  1094.0    916.0  ...    846.0    20744.0\n",
            "badges_count                  1094.0      0.0  ...      0.0        3.0\n",
            "badge_local_product           1094.0      0.0  ...      0.0        1.0\n",
            "badge_product_quality         1094.0      0.0  ...      0.0        1.0\n",
            "badge_fast_shipping           1094.0      0.0  ...      0.0        1.0\n",
            "product_variation_inventory   1094.0     33.0  ...     50.0       50.0\n",
            "shipping_option_price         1094.0      2.0  ...      3.0       12.0\n",
            "shipping_is_express           1094.0      0.0  ...      0.0        1.0\n",
            "countries_shipped_to          1094.0     40.0  ...     43.0      140.0\n",
            "inventory_total               1094.0     50.0  ...     50.0       50.0\n",
            "has_urgency_banner             349.0      1.0  ...      1.0        1.0\n",
            "merchant_rating_count         1094.0  26784.0  ...  23062.0  2174765.0\n",
            "merchant_rating               1094.0      4.0  ...      4.0        5.0\n",
            "merchant_has_profile_picture  1094.0      0.0  ...      0.0        1.0\n",
            "id                            1094.0    772.0  ...   1166.0     1572.0\n",
            "\n",
            "[20 rows x 8 columns]\n",
            "price                              8.00000\n",
            "retail_price                      10.00000\n",
            "units_sold                      1000.00000\n",
            "uses_ad_boosts                     0.00000\n",
            "rating                             4.00000\n",
            "rating_count                     143.50000\n",
            "badges_count                       0.00000\n",
            "badge_local_product                0.00000\n",
            "badge_product_quality              0.00000\n",
            "badge_fast_shipping                0.00000\n",
            "product_variation_inventory       50.00000\n",
            "shipping_option_price              2.00000\n",
            "shipping_is_express                0.00000\n",
            "countries_shipped_to              40.00000\n",
            "inventory_total                   50.00000\n",
            "has_urgency_banner                 1.00000\n",
            "merchant_rating_count           8225.00000\n",
            "merchant_rating                    4.04517\n",
            "merchant_has_profile_picture       0.00000\n",
            "id                               752.50000\n",
            "dtype: float64\n"
          ],
          "name": "stdout"
        }
      ]
    },
    {
      "cell_type": "code",
      "metadata": {
        "id": "AzFDg2wFLh_0",
        "outputId": "ffb9b578-8e2c-4330-e888-fedb5e08a776",
        "colab": {
          "base_uri": "https://localhost:8080/",
          "height": 484
        }
      },
      "source": [
        "# checking for significant relationships between features/features and features/target\n",
        "\n",
        "\n",
        "# to see if there is a relantionship between features and target first I have determine what is considered a good rating and section off those products as is_successful_rating\n",
        "# coverting to int since it was all .0 anyway\n",
        "df.rating = df.rating.astype(int)\n",
        "def is_successful_rating(rating):\n",
        "    if rating >= 4:\n",
        "        return 1\n",
        "    else:\n",
        "        return 0\n",
        "\n",
        "# creating the column containing those only with ratings >= 4 and adds to df\n",
        "df['is_successful_rating'] = df['rating'].apply(is_successful_rating)\n",
        "\n",
        "# Check the difference between price and retail_price and see if there an association between those compared to successful vs unsucessful products\n",
        "print('Overall stats:')\n",
        "print(df['price'].mean())\n",
        "print(df['retail_price'].mean())\n",
        "print('----------------------')\n",
        "print('Stats for successful products:')\n",
        "print(df[df['is_successful_rating'] == 1]['price'].mean())\n",
        "print(df[df['is_successful_rating'] == 1]['retail_price'].mean())\n",
        "print('----------------------')\n",
        "print('Stats for unsuccessful products:')\n",
        "print(df[df['is_successful_rating'] == 0]['price'].mean())\n",
        "print(df[df['is_successful_rating'] == 0]['retail_price'].mean())\n",
        "\n",
        "# checking to see if difference in price between retail and price is associated with ratings\n",
        "df['diff_in_price'] = round(df['retail_price'] - df['price'],2)\n",
        "sns.violinplot(data=df, y='diff_in_price', x='is_successful_rating') # y (for sns plot) was changed to various features to see the results\n",
        "\n",
        "\n",
        "\n",
        "# wanted to see if there is a relationship between using adboost and product rating\n",
        "# print('Percent of products using ad boosts: ', df['uses_ad_boosts'].value_counts()[1] / len(df['uses_ad_boosts'])*100)\n",
        "# sns.countplot(data=df, x='uses_ad_boosts', hue='is_successful_rating')\n",
        "\n"
      ],
      "execution_count": null,
      "outputs": [
        {
          "output_type": "stream",
          "text": [
            "Overall stats:\n",
            "8.320786106032902\n",
            "23.712065813528337\n",
            "----------------------\n",
            "Stats for successful products:\n",
            "8.544814814814815\n",
            "24.404232804232805\n",
            "----------------------\n",
            "Stats for unsuccessful products:\n",
            "6.899932885906042\n",
            "19.322147651006713\n"
          ],
          "name": "stdout"
        },
        {
          "output_type": "execute_result",
          "data": {
            "text/plain": [
              "<matplotlib.axes._subplots.AxesSubplot at 0x7f01de97a588>"
            ]
          },
          "metadata": {
            "tags": []
          },
          "execution_count": 5
        },
        {
          "output_type": "display_data",
          "data": {
            "image/png": "[encoded data removed]",
            "text/plain": [
              "<Figure size 432x288 with 1 Axes>"
            ]
          },
          "metadata": {
            "tags": [],
            "needs_background": "light"
          }
        }
      ]
    },
    {
      "cell_type": "markdown",
      "metadata": {
        "id": "_3Xz6C3wEsOu"
      },
      "source": [
        "# Data cleaning and pre-processing\n"
      ]
    },
    {
      "cell_type": "code",
      "metadata": {
        "id": "74STcqI2FiGo"
      },
      "source": [
        "# fixing some of the feature formatting for uniformity \n",
        "\n",
        "# fixing 'has_urgency_banner'\n",
        "# has_urgency_banner needs to be converted binomial so here I am filling 0 for the missing values\n",
        "df['has_urgency_banner'] = df['has_urgency_banner'].fillna(0)\n",
        "# has_urgency_banner needs to be converted binomial so here I am converting to int to match other binary columns\n",
        "df.has_urgency_banner = df.has_urgency_banner.astype(int)\n",
        "\n",
        "# fixing 'urgency_text'\n",
        "# has_urgency_banner needs to be converted binomial so here I am filling 0 for the missing values\n",
        "df['urgency_text'] = df['urgency_text'].fillna(0)\n",
        "# convert string to int to change uantité limitée ! to NaN\n",
        "df.urgency_text = pd.to_numeric(df.urgency_text, errors='coerce')\n",
        "# Nan to 1 to create binary field\n",
        "df['urgency_text'] = df['urgency_text'].fillna(1)\n",
        "# has_urgency_banner needs to be converted binomial so here I am converting to int to match other binary columns\n",
        "df.urgency_text = df.urgency_text.astype(int)"
      ],
      "execution_count": null,
      "outputs": []
    },
    {
      "cell_type": "code",
      "metadata": {
        "id": "PbVdMtetHZBL",
        "outputId": "d92f67b8-7964-4dd5-ee13-1d82a4b30d1d",
        "colab": {
          "base_uri": "https://localhost:8080/",
          "height": 1000
        }
      },
      "source": [
        "# unifying different variations of the same thing under one category e.g blue and Blue and light blue = blue\n",
        "\n",
        "# Since this feature consists mainly of US and China we can combine the rest into others\n",
        "df['origin_country'] = df['origin_country'].replace('VE', 'Other')\n",
        "df['origin_country'] = df['origin_country'].replace('AT', 'Other')\n",
        "df['origin_country'] = df['origin_country'].replace('SG', 'Other')\n",
        "df['origin_country'] = df['origin_country'].replace('GB', 'Other')\n",
        "df['origin_country'] = df['origin_country'].replace(np.nan, 'Other')\n",
        "# visual check to see if it correctly categorized everything\n",
        "sns.countplot('origin_country', data=df)\n",
        "\n",
        "\n",
        "\n",
        "# Replacing different variations of sizes into one\n",
        "df['product_variation_size_id'] = df['product_variation_size_id'].replace('S.', 'S')\n",
        "df['product_variation_size_id'] = df['product_variation_size_id'].replace('XS.', 'S')\n",
        "df['product_variation_size_id'] = df['product_variation_size_id'].replace('M.', 'M')\n",
        "df['product_variation_size_id'] = df['product_variation_size_id'].replace('Size S', 'S')\n",
        "df['product_variation_size_id'] = df['product_variation_size_id'].replace('Size-XS', 'S')\n",
        "df['product_variation_size_id'] = df['product_variation_size_id'].replace('SIZE XS', 'S')\n",
        "df['product_variation_size_id'] = df['product_variation_size_id'].replace('Size-S', 'S')\n",
        "df['product_variation_size_id'] = df['product_variation_size_id'].replace('Size4XL', 'XL')\n",
        "df['product_variation_size_id'] = df['product_variation_size_id'].replace('size S', 'S')\n",
        "df['product_variation_size_id'] = df['product_variation_size_id'].replace('Size M', 'M')\n",
        "df['product_variation_size_id'] = df['product_variation_size_id'].replace('Size -XXS', 'S')\n",
        "df['product_variation_size_id'] = df['product_variation_size_id'].replace('SIZE-XXS', 'S')\n",
        "df['product_variation_size_id'] = df['product_variation_size_id'].replace('Size S.', 'S')\n",
        "df['product_variation_size_id'] = df['product_variation_size_id'].replace('s', 'S')\n",
        "df['product_variation_size_id'] = df['product_variation_size_id'].replace('SizeL', 'L')\n",
        "df['product_variation_size_id'] = df['product_variation_size_id'].replace('5XL', 'XL')\n",
        "df['product_variation_size_id'] = df['product_variation_size_id'].replace('4XL', 'XL')\n",
        "df['product_variation_size_id'] = df['product_variation_size_id'].replace('3XL', 'XL')\n",
        "df['product_variation_size_id'] = df['product_variation_size_id'].replace('2XL', 'XL')\n",
        "\n",
        "# list anything != name to OTHER to account for other variations\n",
        "def pr_var(name):\n",
        "    if name == 'XXXS' \\\n",
        "    or name == 'XXS' \\\n",
        "    or name == 'XS' \\\n",
        "    or name == 'S' \\\n",
        "    or name == 'M' \\\n",
        "    or name == 'L' \\\n",
        "    or name == 'XL' \\\n",
        "    or name == 'XXL' \\\n",
        "    or name == 'XXXXL' \\\n",
        "    or name == 'XXXXXL':\n",
        "        return name\n",
        "    else:\n",
        "        return \"OTHER\"\n",
        "\n",
        "# replace missing values with OTHER \n",
        "df['product_variation_size_id'] = df['product_variation_size_id'].replace(np.nan, 'OTHER')\n",
        "# adding the new categories to df['feature']\n",
        "df['product_variation_size_id'] = df['product_variation_size_id'].apply(pr_var)\n",
        "\n",
        "\n",
        "# graph to look at size distribution to see if it correctly categorized everything\n",
        "fig_dims = (10, 10)\n",
        "fig, ax = plt.subplots(figsize=fig_dims)\n",
        "sns.countplot('product_variation_size_id',\n",
        "              order = df['product_variation_size_id'].value_counts().index,\n",
        "              palette=\"magma\",\n",
        "              data = df,\n",
        "              ax = ax)\n",
        "ax.set(xlabel='Size', ylabel='Count')\n",
        "plt.show()\n",
        "\n",
        "\n",
        "\n",
        "# Replacing different variations of colors into one and change missing values to OTHER\n",
        "\n",
        "df['product_color'] = df['product_color'].replace('Black', 'black')\n",
        "df['product_color'] = df['product_color'].replace('White', 'white')\n",
        "df['product_color'] = df['product_color'].replace('navyblue', 'blue')\n",
        "df['product_color'] = df['product_color'].replace('lightblue', 'blue')\n",
        "df['product_color'] = df['product_color'].replace('skyblue', 'blue')\n",
        "df['product_color'] = df['product_color'].replace('darkblue', 'blue')\n",
        "df['product_color'] = df['product_color'].replace('navy', 'blue')\n",
        "df['product_color'] = df['product_color'].replace('winered', 'red')\n",
        "df['product_color'] = df['product_color'].replace('rosered', 'red')\n",
        "df['product_color'] = df['product_color'].replace('rose', 'red')\n",
        "df['product_color'] = df['product_color'].replace('orange-red', 'red')\n",
        "df['product_color'] = df['product_color'].replace('lightpink', 'pink')\n",
        "df['product_color'] = df['product_color'].replace('armygreen', 'green')\n",
        "df['product_color'] = df['product_color'].replace('khaki', 'green')\n",
        "df['product_color'] = df['product_color'].replace('lightgreen', 'green')\n",
        "df['product_color'] = df['product_color'].replace('fluorescentgreen', 'green')\n",
        "df['product_color'] = df['product_color'].replace('gray', 'grey')\n",
        "df['product_color'] = df['product_color'].replace('coffee', 'brown')\n",
        "df['product_color'] = df['product_color'].replace('multicolor', 'other')\n",
        "df['product_color'] = df['product_color'].replace('floral', 'other')\n",
        "df['product_color'] = df['product_color'].replace('leopard', 'other')\n",
        "df['product_color'] = df['product_color'].replace('camouflage', 'other')\n",
        "df['product_color'] = df['product_color'].replace('white & green', 'dual')\n",
        "df['product_color'] = df['product_color'].replace('black & green', 'dual')\n",
        "df['product_color'] = df['product_color'].replace('black & white', 'dual')\n",
        "df['product_color'] = df['product_color'].replace('camouflage', 'other')\n",
        "df['product_color'] = df['product_color'].replace(np.nan, 'other')\n",
        "\n",
        "# graph to look at size distribution to see if it correctly categorized everything\n",
        "fig_dims = (10, 15)\n",
        "fig, ax = plt.subplots(figsize=fig_dims)\n",
        "sns.countplot('product_color',\n",
        "              data = df,\n",
        "              order = df['product_color'].value_counts().iloc[:15].index,\n",
        "              ax = ax)\n",
        "ax.set(xlabel='Product Colour', ylabel='Count')\n",
        "plt.xticks(rotation=45, ha='right')\n",
        "plt.show()\n",
        "\n",
        "\n",
        "\n",
        "\n",
        "# checking for distribution of units sold \n",
        "df['units_sold'].value_counts()\n",
        "\n",
        "# we have some units less than 10 so we're going to group them\n",
        "def below_ten(units_sold):\n",
        "    if units_sold < 10:\n",
        "        return 10\n",
        "    else:\n",
        "        return units_sold\n",
        "\n",
        "df['units_sold'] = df['units_sold'].apply(below_ten)\n",
        "# checking for distribution of units sold to see if it correctly categorized everything\n",
        "df['units_sold'].value_counts()"
      ],
      "execution_count": null,
      "outputs": [
        {
          "output_type": "stream",
          "text": [
            "/usr/local/lib/python3.6/dist-packages/seaborn/_decorators.py:43: FutureWarning: Pass the following variable as a keyword arg: x. From version 0.12, the only valid positional argument will be `data`, and passing other arguments without an explicit keyword will result in an error or misinterpretation.\n",
            "  FutureWarning\n",
            "/usr/local/lib/python3.6/dist-packages/seaborn/_decorators.py:43: FutureWarning: Pass the following variable as a keyword arg: x. From version 0.12, the only valid positional argument will be `data`, and passing other arguments without an explicit keyword will result in an error or misinterpretation.\n",
            "  FutureWarning\n"
          ],
          "name": "stderr"
        },
        {
          "output_type": "display_data",
          "data": {
            "image/png": "[encoded data removed]",
            "text/plain": [
              "<Figure size 432x288 with 1 Axes>"
            ]
          },
          "metadata": {
            "tags": [],
            "needs_background": "light"
          }
        },
        {
          "output_type": "display_data",
          "data": {
            "image/png": "[encoded data removed]",
            "text/plain": [
              "<Figure size 720x720 with 1 Axes>"
            ]
          },
          "metadata": {
            "tags": [],
            "needs_background": "light"
          }
        },
        {
          "output_type": "stream",
          "text": [
            "/usr/local/lib/python3.6/dist-packages/seaborn/_decorators.py:43: FutureWarning: Pass the following variable as a keyword arg: x. From version 0.12, the only valid positional argument will be `data`, and passing other arguments without an explicit keyword will result in an error or misinterpretation.\n",
            "  FutureWarning\n"
          ],
          "name": "stderr"
        },
        {
          "output_type": "display_data",
          "data": {
            "image/png": "[encoded data removed]",
            "text/plain": [
              "<Figure size 720x1080 with 1 Axes>"
            ]
          },
          "metadata": {
            "tags": [],
            "needs_background": "light"
          }
        },
        {
          "output_type": "execute_result",
          "data": {
            "text/plain": [
              "100       353\n",
              "1000      280\n",
              "5000      139\n",
              "10000     125\n",
              "20000      79\n",
              "50         54\n",
              "10         47\n",
              "50000      12\n",
              "100000      5\n",
              "Name: units_sold, dtype: int64"
            ]
          },
          "metadata": {
            "tags": []
          },
          "execution_count": 7
        }
      ]
    },
    {
      "cell_type": "code",
      "metadata": {
        "id": "PVWns-OJRVGS"
      },
      "source": [
        "# checking for duplicates in df\n",
        "df.duplicated().sum()\n",
        "\n",
        "# removing duplicates\n",
        "df.drop_duplicates(inplace=True)"
      ],
      "execution_count": null,
      "outputs": []
    },
    {
      "cell_type": "code",
      "metadata": {
        "id": "Msp7KxoYRBv-"
      },
      "source": [
        "# drop unneeded columns from dataset\n",
        "df.drop(['currency_buyer', 'theme','crawl_month', 'shipping_option_name','inventory_total','merchant_name','merchant_title','merchant_info_subtitle','id','merchant_profile_picture','urgency_text','is_successful_rating','countries_shipped_to','product_color','product_variation_size_id','merchant_id','shipping_is_express','badge_local_product'], axis=1, inplace=True)\n",
        "\n",
        "\n",
        "# NOTE: very dynamic column. features were added and removed to optimize accuracy"
      ],
      "execution_count": null,
      "outputs": []
    },
    {
      "cell_type": "markdown",
      "metadata": {
        "id": "uiYWMpiDPuBe"
      },
      "source": [
        "# Normalizing / scaling / encoding features"
      ]
    },
    {
      "cell_type": "code",
      "metadata": {
        "id": "e8BILNv8P_Uo"
      },
      "source": [
        "# normalizing feature to prepare data for model prediction (for color)\n",
        "df = pd.get_dummies(df, \n",
        "                    columns = ['product_color'],\n",
        "                    prefix = 'color_',\n",
        "                    drop_first = True)\n",
        "# quick check to see if it worked\n",
        "df.head()"
      ],
      "execution_count": null,
      "outputs": []
    },
    {
      "cell_type": "code",
      "metadata": {
        "id": "hS1ghjCUQO8q"
      },
      "source": [
        "# normalizing feature to prepare data for model prediction (for size)\n",
        "df = pd.get_dummies(df, \n",
        "                    columns = ['product_variation_size_id'],\n",
        "                    prefix = 'size_',\n",
        "                    drop_first = True)\n",
        "# quick check to see if it worked\n",
        "df.head()"
      ],
      "execution_count": null,
      "outputs": []
    },
    {
      "cell_type": "code",
      "metadata": {
        "id": "fX6M8VNvQW95",
        "outputId": "1eff3100-efec-46f7-fa70-4003bd78b52a",
        "colab": {
          "base_uri": "https://localhost:8080/",
          "height": 375
        }
      },
      "source": [
        "# normalizing feature to prepare data for model prediction (for origin_country)\n",
        "df = pd.get_dummies(df, columns = ['origin_country'],\n",
        "                    prefix = 'country_',drop_first = True)\n",
        "# quick check to see if it worked\n",
        "df.head()"
      ],
      "execution_count": null,
      "outputs": [
        {
          "output_type": "error",
          "ename": "KeyError",
          "evalue": "ignored",
          "traceback": [
            "\u001b[0;31m---------------------------------------------------------------------------\u001b[0m",
            "\u001b[0;31mKeyError\u001b[0m                                  Traceback (most recent call last)",
            "\u001b[0;32m<ipython-input-11-b5f9a9b38e39>\u001b[0m in \u001b[0;36m<module>\u001b[0;34m()\u001b[0m\n\u001b[1;32m      1\u001b[0m \u001b[0;31m# normalizing feature to prepare data for model prediction (for origin_country)\u001b[0m\u001b[0;34m\u001b[0m\u001b[0;34m\u001b[0m\u001b[0;34m\u001b[0m\u001b[0m\n\u001b[1;32m      2\u001b[0m df = pd.get_dummies(df, columns = ['origin_country'],\n\u001b[0;32m----> 3\u001b[0;31m                     prefix = 'country_',drop_first = True)\n\u001b[0m\u001b[1;32m      4\u001b[0m \u001b[0;31m# quick check to see if it worked\u001b[0m\u001b[0;34m\u001b[0m\u001b[0;34m\u001b[0m\u001b[0;34m\u001b[0m\u001b[0m\n\u001b[1;32m      5\u001b[0m \u001b[0mdf\u001b[0m\u001b[0;34m.\u001b[0m\u001b[0mhead\u001b[0m\u001b[0;34m(\u001b[0m\u001b[0;34m)\u001b[0m\u001b[0;34m\u001b[0m\u001b[0;34m\u001b[0m\u001b[0m\n",
            "\u001b[0;32m/usr/local/lib/python3.6/dist-packages/pandas/core/reshape/reshape.py\u001b[0m in \u001b[0;36mget_dummies\u001b[0;34m(data, prefix, prefix_sep, dummy_na, columns, sparse, drop_first, dtype)\u001b[0m\n\u001b[1;32m    845\u001b[0m             \u001b[0;32mraise\u001b[0m \u001b[0mTypeError\u001b[0m\u001b[0;34m(\u001b[0m\u001b[0;34m\"Input must be a list-like for parameter `columns`\"\u001b[0m\u001b[0;34m)\u001b[0m\u001b[0;34m\u001b[0m\u001b[0;34m\u001b[0m\u001b[0m\n\u001b[1;32m    846\u001b[0m         \u001b[0;32melse\u001b[0m\u001b[0;34m:\u001b[0m\u001b[0;34m\u001b[0m\u001b[0;34m\u001b[0m\u001b[0m\n\u001b[0;32m--> 847\u001b[0;31m             \u001b[0mdata_to_encode\u001b[0m \u001b[0;34m=\u001b[0m \u001b[0mdata\u001b[0m\u001b[0;34m[\u001b[0m\u001b[0mcolumns\u001b[0m\u001b[0;34m]\u001b[0m\u001b[0;34m\u001b[0m\u001b[0;34m\u001b[0m\u001b[0m\n\u001b[0m\u001b[1;32m    848\u001b[0m \u001b[0;34m\u001b[0m\u001b[0m\n\u001b[1;32m    849\u001b[0m         \u001b[0;31m# validate prefixes and separator to avoid silently dropping cols\u001b[0m\u001b[0;34m\u001b[0m\u001b[0;34m\u001b[0m\u001b[0;34m\u001b[0m\u001b[0m\n",
            "\u001b[0;32m/usr/local/lib/python3.6/dist-packages/pandas/core/frame.py\u001b[0m in \u001b[0;36m__getitem__\u001b[0;34m(self, key)\u001b[0m\n\u001b[1;32m   2906\u001b[0m             \u001b[0;32mif\u001b[0m \u001b[0mis_iterator\u001b[0m\u001b[0;34m(\u001b[0m\u001b[0mkey\u001b[0m\u001b[0;34m)\u001b[0m\u001b[0;34m:\u001b[0m\u001b[0;34m\u001b[0m\u001b[0;34m\u001b[0m\u001b[0m\n\u001b[1;32m   2907\u001b[0m                 \u001b[0mkey\u001b[0m \u001b[0;34m=\u001b[0m \u001b[0mlist\u001b[0m\u001b[0;34m(\u001b[0m\u001b[0mkey\u001b[0m\u001b[0;34m)\u001b[0m\u001b[0;34m\u001b[0m\u001b[0;34m\u001b[0m\u001b[0m\n\u001b[0;32m-> 2908\u001b[0;31m             \u001b[0mindexer\u001b[0m \u001b[0;34m=\u001b[0m \u001b[0mself\u001b[0m\u001b[0;34m.\u001b[0m\u001b[0mloc\u001b[0m\u001b[0;34m.\u001b[0m\u001b[0m_get_listlike_indexer\u001b[0m\u001b[0;34m(\u001b[0m\u001b[0mkey\u001b[0m\u001b[0;34m,\u001b[0m \u001b[0maxis\u001b[0m\u001b[0;34m=\u001b[0m\u001b[0;36m1\u001b[0m\u001b[0;34m,\u001b[0m \u001b[0mraise_missing\u001b[0m\u001b[0;34m=\u001b[0m\u001b[0;32mTrue\u001b[0m\u001b[0;34m)\u001b[0m\u001b[0;34m[\u001b[0m\u001b[0;36m1\u001b[0m\u001b[0;34m]\u001b[0m\u001b[0;34m\u001b[0m\u001b[0;34m\u001b[0m\u001b[0m\n\u001b[0m\u001b[1;32m   2909\u001b[0m \u001b[0;34m\u001b[0m\u001b[0m\n\u001b[1;32m   2910\u001b[0m         \u001b[0;31m# take() does not accept boolean indexers\u001b[0m\u001b[0;34m\u001b[0m\u001b[0;34m\u001b[0m\u001b[0;34m\u001b[0m\u001b[0m\n",
            "\u001b[0;32m/usr/local/lib/python3.6/dist-packages/pandas/core/indexing.py\u001b[0m in \u001b[0;36m_get_listlike_indexer\u001b[0;34m(self, key, axis, raise_missing)\u001b[0m\n\u001b[1;32m   1252\u001b[0m             \u001b[0mkeyarr\u001b[0m\u001b[0;34m,\u001b[0m \u001b[0mindexer\u001b[0m\u001b[0;34m,\u001b[0m \u001b[0mnew_indexer\u001b[0m \u001b[0;34m=\u001b[0m \u001b[0max\u001b[0m\u001b[0;34m.\u001b[0m\u001b[0m_reindex_non_unique\u001b[0m\u001b[0;34m(\u001b[0m\u001b[0mkeyarr\u001b[0m\u001b[0;34m)\u001b[0m\u001b[0;34m\u001b[0m\u001b[0;34m\u001b[0m\u001b[0m\n\u001b[1;32m   1253\u001b[0m \u001b[0;34m\u001b[0m\u001b[0m\n\u001b[0;32m-> 1254\u001b[0;31m         \u001b[0mself\u001b[0m\u001b[0;34m.\u001b[0m\u001b[0m_validate_read_indexer\u001b[0m\u001b[0;34m(\u001b[0m\u001b[0mkeyarr\u001b[0m\u001b[0;34m,\u001b[0m \u001b[0mindexer\u001b[0m\u001b[0;34m,\u001b[0m \u001b[0maxis\u001b[0m\u001b[0;34m,\u001b[0m \u001b[0mraise_missing\u001b[0m\u001b[0;34m=\u001b[0m\u001b[0mraise_missing\u001b[0m\u001b[0;34m)\u001b[0m\u001b[0;34m\u001b[0m\u001b[0;34m\u001b[0m\u001b[0m\n\u001b[0m\u001b[1;32m   1255\u001b[0m         \u001b[0;32mreturn\u001b[0m \u001b[0mkeyarr\u001b[0m\u001b[0;34m,\u001b[0m \u001b[0mindexer\u001b[0m\u001b[0;34m\u001b[0m\u001b[0;34m\u001b[0m\u001b[0m\n\u001b[1;32m   1256\u001b[0m \u001b[0;34m\u001b[0m\u001b[0m\n",
            "\u001b[0;32m/usr/local/lib/python3.6/dist-packages/pandas/core/indexing.py\u001b[0m in \u001b[0;36m_validate_read_indexer\u001b[0;34m(self, key, indexer, axis, raise_missing)\u001b[0m\n\u001b[1;32m   1296\u001b[0m             \u001b[0;32mif\u001b[0m \u001b[0mmissing\u001b[0m \u001b[0;34m==\u001b[0m \u001b[0mlen\u001b[0m\u001b[0;34m(\u001b[0m\u001b[0mindexer\u001b[0m\u001b[0;34m)\u001b[0m\u001b[0;34m:\u001b[0m\u001b[0;34m\u001b[0m\u001b[0;34m\u001b[0m\u001b[0m\n\u001b[1;32m   1297\u001b[0m                 \u001b[0maxis_name\u001b[0m \u001b[0;34m=\u001b[0m \u001b[0mself\u001b[0m\u001b[0;34m.\u001b[0m\u001b[0mobj\u001b[0m\u001b[0;34m.\u001b[0m\u001b[0m_get_axis_name\u001b[0m\u001b[0;34m(\u001b[0m\u001b[0maxis\u001b[0m\u001b[0;34m)\u001b[0m\u001b[0;34m\u001b[0m\u001b[0;34m\u001b[0m\u001b[0m\n\u001b[0;32m-> 1298\u001b[0;31m                 \u001b[0;32mraise\u001b[0m \u001b[0mKeyError\u001b[0m\u001b[0;34m(\u001b[0m\u001b[0;34mf\"None of [{key}] are in the [{axis_name}]\"\u001b[0m\u001b[0;34m)\u001b[0m\u001b[0;34m\u001b[0m\u001b[0;34m\u001b[0m\u001b[0m\n\u001b[0m\u001b[1;32m   1299\u001b[0m \u001b[0;34m\u001b[0m\u001b[0m\n\u001b[1;32m   1300\u001b[0m             \u001b[0;31m# We (temporarily) allow for some missing keys with .loc, except in\u001b[0m\u001b[0;34m\u001b[0m\u001b[0;34m\u001b[0m\u001b[0;34m\u001b[0m\u001b[0m\n",
            "\u001b[0;31mKeyError\u001b[0m: \"None of [Index(['origin_country'], dtype='object')] are in the [columns]\""
          ]
        }
      ]
    },
    {
      "cell_type": "code",
      "metadata": {
        "id": "TDiEBxkYQkvd"
      },
      "source": [
        "# breaking up the tag column to see the number of tags per row. \n",
        "def tag_count(tags):\n",
        "    tag_str = tags\n",
        "    prod_tags = tag_str.split(',')\n",
        "    return len(prod_tags)\n",
        "    \n",
        "# replaced tags with tag_count from above to the df\n",
        "df['tag_count'] = df['tags'].apply(tag_count)\n",
        "df.drop(['tags'], axis=1, inplace=True)\n"
      ],
      "execution_count": null,
      "outputs": []
    },
    {
      "cell_type": "code",
      "metadata": {
        "id": "sqmY7G2Rj-zb",
        "outputId": "9434de09-460b-4721-8a99-236b83473ec7",
        "colab": {
          "base_uri": "https://localhost:8080/",
          "height": 34
        }
      },
      "source": [
        "a = mean(df['rating_count'])\n",
        "print(a)"
      ],
      "execution_count": null,
      "outputs": [
        {
          "output_type": "stream",
          "text": [
            "915.5237659963437\n"
          ],
          "name": "stdout"
        }
      ]
    },
    {
      "cell_type": "code",
      "metadata": {
        "id": "MVNIx1rvmxh3",
        "outputId": "ef361bcb-62d6-43d4-f5ce-eaea57648fd2",
        "colab": {
          "base_uri": "https://localhost:8080/",
          "height": 476
        }
      },
      "source": [
        "print(df.info())"
      ],
      "execution_count": null,
      "outputs": [
        {
          "output_type": "stream",
          "text": [
            "<class 'pandas.core.frame.DataFrame'>\n",
            "Int64Index: 1094 entries, 0 to 1093\n",
            "Data columns (total 19 columns):\n",
            " #   Column                        Non-Null Count  Dtype  \n",
            "---  ------                        --------------  -----  \n",
            " 0   price                         1094 non-null   float64\n",
            " 1   retail_price                  1094 non-null   int64  \n",
            " 2   units_sold                    1094 non-null   int64  \n",
            " 3   uses_ad_boosts                1094 non-null   int64  \n",
            " 4   rating                        1094 non-null   int64  \n",
            " 5   rating_count                  1094 non-null   int64  \n",
            " 6   badges_count                  1094 non-null   int64  \n",
            " 7   badge_product_quality         1094 non-null   int64  \n",
            " 8   badge_fast_shipping           1094 non-null   int64  \n",
            " 9   product_variation_inventory   1094 non-null   int64  \n",
            " 10  shipping_option_price         1094 non-null   int64  \n",
            " 11  has_urgency_banner            1094 non-null   int64  \n",
            " 12  merchant_rating_count         1094 non-null   int64  \n",
            " 13  merchant_rating               1094 non-null   float64\n",
            " 14  merchant_has_profile_picture  1094 non-null   int64  \n",
            " 15  diff_in_price                 1094 non-null   float64\n",
            " 16  country__Other                1094 non-null   uint8  \n",
            " 17  country__US                   1094 non-null   uint8  \n",
            " 18  tag_count                     1094 non-null   int64  \n",
            "dtypes: float64(3), int64(14), uint8(2)\n",
            "memory usage: 156.0 KB\n",
            "None\n"
          ],
          "name": "stdout"
        }
      ]
    },
    {
      "cell_type": "code",
      "metadata": {
        "id": "8zgeZJuPjdsb"
      },
      "source": [
        "# FEATURE ENGINEERING : comparing rating and rating count\n",
        "\n",
        "def new_feature(rating_count):\n",
        "\n",
        "  mean_count = mean(df['rating_count'])\n",
        "  stdev_count = stdev(df['rating_count'])\n",
        "\n",
        "  if int(rating_count) >= mean_count + stdev_count:\n",
        "    return 2\n",
        "  elif int(rating_count) >= mean_count - stdev_count:\n",
        "    return 1\n",
        "  else:\n",
        "    return 0\n",
        "\n",
        "\n",
        "df['new_feature_rating'] = df[['rating_count']].apply(new_feature, axis=1)\n",
        "\n",
        "\n"
      ],
      "execution_count": null,
      "outputs": []
    },
    {
      "cell_type": "code",
      "metadata": {
        "id": "r2uhrkBx2QZM"
      },
      "source": [
        "print(df['new_feature_rating'].to_numpy()[0:1000])"
      ],
      "execution_count": null,
      "outputs": []
    },
    {
      "cell_type": "code",
      "metadata": {
        "id": "q7nA6geY1yU7"
      },
      "source": [
        "# FEATURE ENGINEERING : comparing rating and rating count\n",
        "\n",
        "def new_feature(merchant_rating_count):\n",
        "\n",
        "  mean_count = mean(df['merchant_rating_count'])\n",
        "  stdev_count = stdev(df['merchant_rating_count'])\n",
        "\n",
        "  if int(merchant_rating_count) >= mean_count + stdev_count:\n",
        "    return 2\n",
        "  elif int(merchant_rating_count) >= mean_count - stdev_count:\n",
        "    return 1\n",
        "  else:\n",
        "    return 0\n",
        "\n",
        "\n",
        "df['new_feature_merchant_rating'] = df[['merchant_rating_count']].apply(new_feature, axis=1)"
      ],
      "execution_count": null,
      "outputs": []
    },
    {
      "cell_type": "code",
      "metadata": {
        "id": "3ikG8kUi3UdO",
        "outputId": "4f0673e9-9dd5-4e48-c951-3852cda5cfec",
        "colab": {
          "base_uri": "https://localhost:8080/",
          "height": 476
        }
      },
      "source": [
        "print(df.info())"
      ],
      "execution_count": null,
      "outputs": [
        {
          "output_type": "stream",
          "text": [
            "<class 'pandas.core.frame.DataFrame'>\n",
            "Int64Index: 1094 entries, 0 to 1093\n",
            "Data columns (total 19 columns):\n",
            " #   Column                        Non-Null Count  Dtype  \n",
            "---  ------                        --------------  -----  \n",
            " 0   price                         1094 non-null   float64\n",
            " 1   retail_price                  1094 non-null   int64  \n",
            " 2   units_sold                    1094 non-null   int64  \n",
            " 3   uses_ad_boosts                1094 non-null   int64  \n",
            " 4   rating                        1094 non-null   int64  \n",
            " 5   rating_count                  1094 non-null   int64  \n",
            " 6   badges_count                  1094 non-null   int64  \n",
            " 7   badge_product_quality         1094 non-null   int64  \n",
            " 8   badge_fast_shipping           1094 non-null   int64  \n",
            " 9   product_variation_inventory   1094 non-null   int64  \n",
            " 10  shipping_option_price         1094 non-null   int64  \n",
            " 11  has_urgency_banner            1094 non-null   int64  \n",
            " 12  merchant_rating_count         1094 non-null   int64  \n",
            " 13  merchant_rating               1094 non-null   float64\n",
            " 14  merchant_has_profile_picture  1094 non-null   int64  \n",
            " 15  diff_in_price                 1094 non-null   float64\n",
            " 16  country__Other                1094 non-null   uint8  \n",
            " 17  country__US                   1094 non-null   uint8  \n",
            " 18  tag_count                     1094 non-null   int64  \n",
            "dtypes: float64(3), int64(14), uint8(2)\n",
            "memory usage: 156.0 KB\n",
            "None\n"
          ],
          "name": "stdout"
        }
      ]
    },
    {
      "cell_type": "code",
      "metadata": {
        "id": "elzCx734R6He"
      },
      "source": [
        "# CAUTION: only run if you want to normalize values\n",
        "\n",
        "\n",
        "min_max_scaler = preprocessing.MinMaxScaler()\n",
        "x_scaled = min_max_scaler.fit_transform(df)\n",
        "df_normalized=pd.DataFrame(x_scaled, columns=df.columns)\n"
      ],
      "execution_count": null,
      "outputs": []
    },
    {
      "cell_type": "code",
      "metadata": {
        "id": "m5oS--iDRj83",
        "outputId": "5e71f8a0-79ab-415d-ae8f-276d2bc9c08a",
        "colab": {
          "base_uri": "https://localhost:8080/",
          "height": 1000
        }
      },
      "source": [
        "# quick check before modeling\n",
        "print(df)\n",
        "print(df.info())\n",
        "print(df_normalized)\n",
        "print(df_normalized.info())"
      ],
      "execution_count": null,
      "outputs": [
        {
          "output_type": "stream",
          "text": [
            "      price  retail_price  units_sold  ...  country__Other  country__US  tag_count\n",
            "0      8.00             7       10000  ...               0            0         16\n",
            "1      8.00             7        1000  ...               0            0         22\n",
            "2      6.00            34         100  ...               0            0         23\n",
            "3      4.67             4         100  ...               0            0         16\n",
            "4      8.00            11        1000  ...               0            0         20\n",
            "...     ...           ...         ...  ...             ...          ...        ...\n",
            "1089   4.00             4       10000  ...               0            0         13\n",
            "1090   5.00             5        1000  ...               0            0         18\n",
            "1091   9.00            48        1000  ...               0            0         16\n",
            "1092  11.00            10       10000  ...               0            0         20\n",
            "1093   7.00             6        1000  ...               0            0         14\n",
            "\n",
            "[1094 rows x 19 columns]\n",
            "<class 'pandas.core.frame.DataFrame'>\n",
            "Int64Index: 1094 entries, 0 to 1093\n",
            "Data columns (total 19 columns):\n",
            " #   Column                        Non-Null Count  Dtype  \n",
            "---  ------                        --------------  -----  \n",
            " 0   price                         1094 non-null   float64\n",
            " 1   retail_price                  1094 non-null   int64  \n",
            " 2   units_sold                    1094 non-null   int64  \n",
            " 3   uses_ad_boosts                1094 non-null   int64  \n",
            " 4   rating                        1094 non-null   int64  \n",
            " 5   rating_count                  1094 non-null   int64  \n",
            " 6   badges_count                  1094 non-null   int64  \n",
            " 7   badge_product_quality         1094 non-null   int64  \n",
            " 8   badge_fast_shipping           1094 non-null   int64  \n",
            " 9   product_variation_inventory   1094 non-null   int64  \n",
            " 10  shipping_option_price         1094 non-null   int64  \n",
            " 11  has_urgency_banner            1094 non-null   int64  \n",
            " 12  merchant_rating_count         1094 non-null   int64  \n",
            " 13  merchant_rating               1094 non-null   float64\n",
            " 14  merchant_has_profile_picture  1094 non-null   int64  \n",
            " 15  diff_in_price                 1094 non-null   float64\n",
            " 16  country__Other                1094 non-null   uint8  \n",
            " 17  country__US                   1094 non-null   uint8  \n",
            " 18  tag_count                     1094 non-null   int64  \n",
            "dtypes: float64(3), int64(14), uint8(2)\n",
            "memory usage: 156.0 KB\n",
            "None\n",
            "         price  retail_price  ...  country__US  tag_count\n",
            "0     0.145833         0.020  ...          0.0   0.242424\n",
            "1     0.145833         0.020  ...          0.0   0.424242\n",
            "2     0.104167         0.128  ...          0.0   0.454545\n",
            "3     0.076458         0.008  ...          0.0   0.242424\n",
            "4     0.145833         0.036  ...          0.0   0.363636\n",
            "...        ...           ...  ...          ...        ...\n",
            "1089  0.062500         0.008  ...          0.0   0.151515\n",
            "1090  0.083333         0.012  ...          0.0   0.303030\n",
            "1091  0.166667         0.184  ...          0.0   0.242424\n",
            "1092  0.208333         0.032  ...          0.0   0.363636\n",
            "1093  0.125000         0.016  ...          0.0   0.181818\n",
            "\n",
            "[1094 rows x 19 columns]\n",
            "<class 'pandas.core.frame.DataFrame'>\n",
            "RangeIndex: 1094 entries, 0 to 1093\n",
            "Data columns (total 19 columns):\n",
            " #   Column                        Non-Null Count  Dtype  \n",
            "---  ------                        --------------  -----  \n",
            " 0   price                         1094 non-null   float64\n",
            " 1   retail_price                  1094 non-null   float64\n",
            " 2   units_sold                    1094 non-null   float64\n",
            " 3   uses_ad_boosts                1094 non-null   float64\n",
            " 4   rating                        1094 non-null   float64\n",
            " 5   rating_count                  1094 non-null   float64\n",
            " 6   badges_count                  1094 non-null   float64\n",
            " 7   badge_product_quality         1094 non-null   float64\n",
            " 8   badge_fast_shipping           1094 non-null   float64\n",
            " 9   product_variation_inventory   1094 non-null   float64\n",
            " 10  shipping_option_price         1094 non-null   float64\n",
            " 11  has_urgency_banner            1094 non-null   float64\n",
            " 12  merchant_rating_count         1094 non-null   float64\n",
            " 13  merchant_rating               1094 non-null   float64\n",
            " 14  merchant_has_profile_picture  1094 non-null   float64\n",
            " 15  diff_in_price                 1094 non-null   float64\n",
            " 16  country__Other                1094 non-null   float64\n",
            " 17  country__US                   1094 non-null   float64\n",
            " 18  tag_count                     1094 non-null   float64\n",
            "dtypes: float64(19)\n",
            "memory usage: 162.5 KB\n",
            "None\n"
          ],
          "name": "stdout"
        }
      ]
    },
    {
      "cell_type": "markdown",
      "metadata": {
        "id": "ANXMpLeKVVaz"
      },
      "source": [
        "# Final data preparation"
      ]
    },
    {
      "cell_type": "code",
      "metadata": {
        "id": "QjCuIEPtiumR"
      },
      "source": [
        "# training x and y without splitting to be used for cross validation if needed (FOR UN-NORMALIZED)\n",
        "X_no_split = df.drop(['rating'], axis = 1)\n",
        "y_no_split = df['rating']"
      ],
      "execution_count": null,
      "outputs": []
    },
    {
      "cell_type": "code",
      "metadata": {
        "id": "rFpmrrZ64xk7"
      },
      "source": [
        "# training x and y without splitting to be used for cross validation if needed (FOR NORMALIZED)\n",
        "X_no_split = df_normalized.drop(['rating'], axis = 1)\n",
        "y_no_split = df['rating']"
      ],
      "execution_count": null,
      "outputs": []
    },
    {
      "cell_type": "code",
      "metadata": {
        "id": "WNO91gafVUpS"
      },
      "source": [
        "# X/y train/test creation UN-NORMALIZED (only run this or NORMALIZED)\n",
        "\n",
        "X_not_nor = df.drop(['rating'], axis = 1)\n",
        "y_not_nor = df['rating']\n",
        "\n",
        "\n",
        "X_train, X_test, y_train, y_test = train_test_split(X_not_nor, y_not_nor, \n",
        "                                                    test_size = 0.2, \n",
        "                                                    random_state=42)\n",
        "# NOTE : uses df"
      ],
      "execution_count": null,
      "outputs": []
    },
    {
      "cell_type": "code",
      "metadata": {
        "id": "heV6phUsWMEt"
      },
      "source": [
        "# X/y train/test creation for NORMALIZED (only run this or UN-NORMALIZED)\n",
        "\n",
        "\n",
        "X_nor = df_normalized.drop(['rating'], axis = 1)\n",
        "# we don't want a normalized target attribute since this is a classification problem\n",
        "y_nor = df['rating']\n",
        "\n",
        "\n",
        "X_train, X_test, y_train, y_test = train_test_split(X_nor, y_nor, \n",
        "                                                    test_size = 0.2)\n",
        "# NOTE : uses df_normalized"
      ],
      "execution_count": null,
      "outputs": []
    },
    {
      "cell_type": "code",
      "metadata": {
        "id": "4dVKlQqXXvMR",
        "outputId": "b25f836b-d95c-4dfc-ecab-fb7b60e7d50b",
        "colab": {
          "base_uri": "https://localhost:8080/",
          "height": 71
        }
      },
      "source": [
        "# over sampling data (only run if you want to over sample the data) !!!OPTIONAL!!!\n",
        "## CAUTION: have to do some variable editing if you want to use oversampled data\n",
        "ros = RandomOverSampler(random_state=42)\n",
        "X_res, y_res = ros.fit_resample(X_train, y_train)\n",
        "\n",
        "\n",
        "# NOTE : used for imbalanced dataset where you don't want to lose data to equally represent every target level (under sampling)\n",
        "# NOTE : use 'X_res' and  'y_res' to train model if you want to use oversampled data"
      ],
      "execution_count": null,
      "outputs": [
        {
          "output_type": "stream",
          "text": [
            "/usr/local/lib/python3.6/dist-packages/sklearn/utils/deprecation.py:87: FutureWarning: Function safe_indexing is deprecated; safe_indexing is deprecated in version 0.22 and will be removed in version 0.24.\n",
            "  warnings.warn(msg, category=FutureWarning)\n"
          ],
          "name": "stderr"
        }
      ]
    },
    {
      "cell_type": "code",
      "metadata": {
        "id": "AIzh4gFoZRWr",
        "outputId": "cc427224-f297-4229-d108-6165f12d773a",
        "colab": {
          "base_uri": "https://localhost:8080/",
          "height": 119
        }
      },
      "source": [
        "print(np.count_nonzero(y_res == 1))\n",
        "print(np.count_nonzero(y_res == 2))\n",
        "print(np.count_nonzero(y_res == 3))\n",
        "print(np.count_nonzero(y_res == 4))\n",
        "print(np.count_nonzero(y_res == 5))\n",
        "print(np.count_nonzero(y_res == 6))"
      ],
      "execution_count": null,
      "outputs": [
        {
          "output_type": "stream",
          "text": [
            "622\n",
            "622\n",
            "622\n",
            "622\n",
            "622\n",
            "622\n"
          ],
          "name": "stdout"
        }
      ]
    },
    {
      "cell_type": "code",
      "metadata": {
        "id": "fTedCIG9a6xt",
        "outputId": "84c8e413-7bc7-4efa-f3fc-cbf22795b6d2",
        "colab": {
          "base_uri": "https://localhost:8080/",
          "height": 119
        }
      },
      "source": [
        "print(np.count_nonzero(y_train == 1))\n",
        "print(np.count_nonzero(y_train == 2))\n",
        "print(np.count_nonzero(y_train == 3))\n",
        "print(np.count_nonzero(y_train == 4))\n",
        "print(np.count_nonzero(y_train == 5))\n",
        "print(np.count_nonzero(y_train == 6))"
      ],
      "execution_count": null,
      "outputs": [
        {
          "output_type": "stream",
          "text": [
            "2\n",
            "5\n",
            "113\n",
            "616\n",
            "138\n",
            "1\n"
          ],
          "name": "stdout"
        }
      ]
    },
    {
      "cell_type": "code",
      "metadata": {
        "id": "CPP-G2oTXA3i",
        "outputId": "87767fc8-2bba-4b89-b7c0-8a872529ae7a",
        "colab": {
          "base_uri": "https://localhost:8080/",
          "height": 459
        }
      },
      "source": [
        "# quick check before modeling\n",
        "print(X_train)\n",
        "print(y_train)"
      ],
      "execution_count": null,
      "outputs": [
        {
          "output_type": "stream",
          "text": [
            "         price  retail_price  ...  country__US  tag_count\n",
            "1027  0.062500         0.008  ...          0.0   0.212121\n",
            "381   0.312500         0.048  ...          0.0   0.484848\n",
            "881   0.208333         0.180  ...          0.0   0.060606\n",
            "969   0.208333         0.032  ...          0.0   0.484848\n",
            "464   0.270833         0.328  ...          0.0   0.333333\n",
            "...        ...           ...  ...          ...        ...\n",
            "21    0.229167         0.340  ...          0.0   0.242424\n",
            "263   0.145833         0.020  ...          0.0   0.151515\n",
            "355   0.125000         0.096  ...          0.0   0.181818\n",
            "779   0.166667         0.028  ...          1.0   0.333333\n",
            "204   0.041667         0.004  ...          0.0   0.363636\n",
            "\n",
            "[875 rows x 18 columns]\n",
            "1027    4\n",
            "381     4\n",
            "881     5\n",
            "969     4\n",
            "464     4\n",
            "       ..\n",
            "21      4\n",
            "263     4\n",
            "355     3\n",
            "779     4\n",
            "204     3\n",
            "Name: rating, Length: 875, dtype: int64\n"
          ],
          "name": "stdout"
        }
      ]
    },
    {
      "cell_type": "markdown",
      "metadata": {
        "id": "4RPSCPIrVxgN"
      },
      "source": [
        "# Modeling and evaluation"
      ]
    },
    {
      "cell_type": "markdown",
      "metadata": {
        "id": "rlBfh2MnMI8d"
      },
      "source": [
        "# Random models"
      ]
    },
    {
      "cell_type": "code",
      "metadata": {
        "id": "qKpZHG6puNDQ",
        "outputId": "17a631b8-4d11-4034-fcfc-380e5db06715",
        "colab": {
          "base_uri": "https://localhost:8080/",
          "height": 51
        }
      },
      "source": [
        "from sklearn.ensemble import GradientBoostingClassifier\n",
        "\n",
        "classifier_XGBC = GradientBoostingClassifier()\n",
        "classifier_XGBC.fit(X_train, y_train)\n",
        "y_pred_XGBC = classifier_XGBC.predict(X_test)\n",
        "\n",
        "\n",
        "\n",
        "f1_scores_XGBC=f1_score(y_test, y_pred_XGBC, average=None)\n",
        "print(f1_scores_XGBC)\n",
        "mean(f1_scores_XGBC)\n"
      ],
      "execution_count": null,
      "outputs": [
        {
          "output_type": "stream",
          "text": [
            "[1.         0.66666667 0.48648649 0.88198758 0.72972973]\n"
          ],
          "name": "stdout"
        },
        {
          "output_type": "execute_result",
          "data": {
            "text/plain": [
              "0.7529740921045269"
            ]
          },
          "metadata": {
            "tags": []
          },
          "execution_count": 52
        }
      ]
    },
    {
      "cell_type": "markdown",
      "metadata": {
        "id": "iXMfIHhIjZK6"
      },
      "source": [
        "Decision tree"
      ]
    },
    {
      "cell_type": "code",
      "metadata": {
        "id": "RbfHOXH4jbkK",
        "outputId": "5bcb1ceb-f4c5-4771-97e3-f2bfda5e70db",
        "colab": {
          "base_uri": "https://localhost:8080/",
          "height": 51
        }
      },
      "source": [
        "# Decision tree NOT cross validated\n",
        "\n",
        "classifier_DTC = DecisionTreeClassifier()\n",
        "classifier_DTC.fit(X_train, y_train)\n",
        "y_pred_DTC = classifier_DTC.predict(X_test)\n",
        "\n",
        "\n",
        "\n",
        "f1_scores_DTC=f1_score(y_test, y_pred_DTC, average=None)\n",
        "print(f1_scores_DTC)\n",
        "mean(f1_scores_DTC)"
      ],
      "execution_count": null,
      "outputs": [
        {
          "output_type": "stream",
          "text": [
            "[1.         0.28571429 0.47058824 0.82666667 0.64102564]\n"
          ],
          "name": "stdout"
        },
        {
          "output_type": "execute_result",
          "data": {
            "text/plain": [
              "0.6447989657401422"
            ]
          },
          "metadata": {
            "tags": []
          },
          "execution_count": 53
        }
      ]
    },
    {
      "cell_type": "code",
      "metadata": {
        "id": "DztUd3rBkhOL",
        "outputId": "d1995f5e-57bf-48b7-8b9a-c015e081bb65",
        "colab": {
          "base_uri": "https://localhost:8080/",
          "height": 34
        }
      },
      "source": [
        "# Decision tree CROSS VALIDATED\n",
        "\n",
        "classifier_DTC = DecisionTreeClassifier()\n",
        "kfold = KFold(n_splits=10)\n",
        "y_pred_DTC = cross_val_predict(classifier_DTC, X_no_split, y_no_split, cv=kfold) #Cross validation on training set\n",
        "\n",
        "\n",
        "f1_scores_DTC=f1_score(y_no_split, y_pred_DTC, average=None)\n",
        "mean(f1_scores_DTC)"
      ],
      "execution_count": null,
      "outputs": [
        {
          "output_type": "execute_result",
          "data": {
            "text/plain": [
              "0.44466521610520415"
            ]
          },
          "metadata": {
            "tags": []
          },
          "execution_count": 1146
        }
      ]
    },
    {
      "cell_type": "code",
      "metadata": {
        "id": "VW4D0xAlcL9V",
        "outputId": "52658d45-6dc2-4a72-9fdd-adf641a06ce7",
        "colab": {
          "base_uri": "https://localhost:8080/",
          "height": 34
        }
      },
      "source": [
        "# Decision tree OVER SAMPLED\n",
        "\n",
        "classifier_DTC = DecisionTreeClassifier(criterion='gini', splitter=\"random\", max_depth=30,  max_features = None, max_leaf_nodes = None )\n",
        "classifier_DTC.fit(X_res, y_res)\n",
        "y_pred_DTC = classifier_DTC.predict(X_test)\n",
        "\n",
        "\n",
        "\n",
        "f1_scores_DTC=f1_score(y_test, y_pred_DTC, average=None)\n",
        "mean(f1_scores_DTC)"
      ],
      "execution_count": null,
      "outputs": [
        {
          "output_type": "execute_result",
          "data": {
            "text/plain": [
              "0.2911207335710647"
            ]
          },
          "metadata": {
            "tags": []
          },
          "execution_count": 784
        }
      ]
    },
    {
      "cell_type": "markdown",
      "metadata": {
        "id": "DGctXCZcgg5a"
      },
      "source": [
        "Random forest"
      ]
    },
    {
      "cell_type": "code",
      "metadata": {
        "id": "5rGnG8NAgm-c",
        "outputId": "0efc7033-239c-43fd-c90f-b14278786835",
        "colab": {
          "base_uri": "https://localhost:8080/",
          "height": 51
        }
      },
      "source": [
        "X_train, X_test, y_train, y_test = train_test_split(X_nor, y_nor, test_size = 0.2)\n",
        "\n",
        "\n",
        "# Random forest NOT cross validated\n",
        "\n",
        "classifier_RFC = RandomForestClassifier()\n",
        "classifier_RFC.fit(X_train, y_train)\n",
        "y_pred_RFC = classifier_RFC.predict(X_test)\n",
        "\n",
        "\n",
        "\n",
        "f1_scores_RFC=f1_score(y_test, y_pred_RFC, average=None)\n",
        "print(f1_scores_RFC)\n",
        "mean(f1_scores_RFC)"
      ],
      "execution_count": null,
      "outputs": [
        {
          "output_type": "stream",
          "text": [
            "[1.         0.66666667 0.35294118 0.88414634 0.76056338]\n"
          ],
          "name": "stdout"
        },
        {
          "output_type": "execute_result",
          "data": {
            "text/plain": [
              "0.732863512976472"
            ]
          },
          "metadata": {
            "tags": []
          },
          "execution_count": 51
        }
      ]
    },
    {
      "cell_type": "code",
      "metadata": {
        "id": "JCdk64zYhbDF",
        "outputId": "6ae9cc62-425c-47ab-fd15-cb5c047dec61",
        "colab": {
          "base_uri": "https://localhost:8080/",
          "height": 34
        }
      },
      "source": [
        "# Random forest CROSS VALIDATED\n",
        "\n",
        "classifier_RFC = RandomForestClassifier()\n",
        "kfold = KFold(n_splits=10)\n",
        "y_pred_RFC = cross_val_predict(classifier_RFC, X_no_split, y_no_split, cv=kfold) #Cross validation on training set\n",
        "\n",
        "\n",
        "f1_scores_RFC=f1_score(y_no_split, y_pred_RFC, average=None)\n",
        "mean(f1_scores_RFC)"
      ],
      "execution_count": null,
      "outputs": [
        {
          "output_type": "execute_result",
          "data": {
            "text/plain": [
              "0.5569580729643844"
            ]
          },
          "metadata": {
            "tags": []
          },
          "execution_count": 1150
        }
      ]
    },
    {
      "cell_type": "markdown",
      "metadata": {
        "id": "2OnngfdQmg4u"
      },
      "source": [
        "Adaboost"
      ]
    },
    {
      "cell_type": "code",
      "metadata": {
        "id": "0e3W7EjQml8f",
        "outputId": "ffd9fbe6-93d7-445e-c640-a0d3dea946cd",
        "colab": {
          "base_uri": "https://localhost:8080/",
          "height": 34
        }
      },
      "source": [
        "# Adaboost NOT cross validated\n",
        "\n",
        "classifier_ABC_RF = AdaBoostClassifier(RandomForestClassifier(), n_estimators= 30, learning_rate = 0.01) \n",
        "classifier_ABC_RF.fit(X_train, y_train)\n",
        "y_pred_ABC_RF = classifier_ABC_RF.predict(X_test)\n",
        "\n",
        "\n",
        "f1_scores_ABC=f1_score(y_test, y_pred_ABC_RF, average=None)\n",
        "mean(f1_scores_ABC)"
      ],
      "execution_count": null,
      "outputs": [
        {
          "output_type": "execute_result",
          "data": {
            "text/plain": [
              "0.7273268968062895"
            ]
          },
          "metadata": {
            "tags": []
          },
          "execution_count": 54
        }
      ]
    },
    {
      "cell_type": "code",
      "metadata": {
        "id": "Pte00xpum2vx",
        "outputId": "cb0b936d-22af-4524-a996-2fdf8b589ed0",
        "colab": {
          "base_uri": "https://localhost:8080/",
          "height": 34
        }
      },
      "source": [
        "# Adaboost CROSS VALIDATED\n",
        "\n",
        "classifier_ABC_RF = AdaBoostClassifier(RandomForestClassifier(),\n",
        "                                       learning_rate = 0.01) \n",
        "kfold = KFold(n_splits=10)\n",
        "y_pred_ABC_RF = cross_val_predict(classifier_ABC_RF, X_no_split, y_no_split, cv=kfold) #Cross validation on training set\n",
        "\n",
        "\n",
        "f1_scores_ABC=f1_score(y_no_split, y_pred_ABC_RF, average=None)\n",
        "mean(f1_scores_ABC)"
      ],
      "execution_count": null,
      "outputs": [
        {
          "output_type": "execute_result",
          "data": {
            "text/plain": [
              "0.5550076681863236"
            ]
          },
          "metadata": {
            "tags": []
          },
          "execution_count": 717
        }
      ]
    },
    {
      "cell_type": "markdown",
      "metadata": {
        "id": "EkPm0JSGlxIQ"
      },
      "source": [
        "Neural net"
      ]
    },
    {
      "cell_type": "code",
      "metadata": {
        "id": "iwisWNyclAty",
        "outputId": "7e9ca3d2-c46e-4e84-a0b5-426bfd4c2703",
        "colab": {
          "base_uri": "https://localhost:8080/",
          "height": 88
        }
      },
      "source": [
        "# MLP NOT cross validated\n",
        "\n",
        "classifier_neural_MLP = MLPClassifier(random_state=42)\n",
        "classifier_neural_MLP.fit(X_train, y_train)\n",
        "y_pred_MLP = classifier_neural_MLP.predict(X_test)\n",
        "\n",
        "\n",
        "f1_scores_MLP=f1_score(y_test, y_pred_MLP, average=None)\n",
        "mean(f1_scores_MLP)"
      ],
      "execution_count": null,
      "outputs": [
        {
          "output_type": "stream",
          "text": [
            "/usr/local/lib/python3.6/dist-packages/sklearn/neural_network/_multilayer_perceptron.py:571: ConvergenceWarning: Stochastic Optimizer: Maximum iterations (200) reached and the optimization hasn't converged yet.\n",
            "  % self.max_iter, ConvergenceWarning)\n"
          ],
          "name": "stderr"
        },
        {
          "output_type": "execute_result",
          "data": {
            "text/plain": [
              "0.2269997026464466"
            ]
          },
          "metadata": {
            "tags": []
          },
          "execution_count": 55
        }
      ]
    },
    {
      "cell_type": "code",
      "metadata": {
        "id": "Hh1b3GyNmP2H"
      },
      "source": [
        "# MLP CROSS VALIDATED\n",
        "\n",
        "classifier_neural_MLP = MLPRegressor(random_state=42)\n",
        "kfold = KFold(n_splits=10)\n",
        "y_pred_MLP = cross_val_predict(classifier_neural_MLP, X_no_split, y_no_split, cv=kfold) #Cross validation on training set\n",
        "\n",
        "\n",
        "f1_scores_MLP=f1_score(y_no_split, y_pred_MLP, average=None)\n",
        "mean(f1_scores_MLP)"
      ],
      "execution_count": null,
      "outputs": []
    },
    {
      "cell_type": "markdown",
      "metadata": {
        "id": "8ZozbiCBnVVm"
      },
      "source": [
        "Ensemble learning"
      ]
    },
    {
      "cell_type": "code",
      "metadata": {
        "id": "fXnrtRlHocuC",
        "outputId": "c0b11b0d-22f7-4c1b-c503-652f53fc2508",
        "colab": {
          "base_uri": "https://localhost:8080/",
          "height": 34
        }
      },
      "source": [
        "# ensemble learning NOT cross validated\n",
        "\n",
        "voting_cl = VotingClassifier(estimators = [('Random Forest',classifier_RFC), ('Ada Boost',classifier_ABC_RF)], voting = 'hard')\n",
        "voting_cl.fit(X_train, y_train)\n",
        "y_pred_vcl = voting_cl.predict(X_test)\n",
        "\n",
        "\n",
        "f1_scores_Ensemble=f1_score(y_test, y_pred_vcl, average=None)\n",
        "mean(f1_scores_Ensemble)"
      ],
      "execution_count": null,
      "outputs": [
        {
          "output_type": "execute_result",
          "data": {
            "text/plain": [
              "0.7399109037318663"
            ]
          },
          "metadata": {
            "tags": []
          },
          "execution_count": 56
        }
      ]
    },
    {
      "cell_type": "code",
      "metadata": {
        "id": "kiYD6_CBoqvS",
        "outputId": "815fac11-614c-4610-c1f9-4410fe794dc4",
        "colab": {
          "base_uri": "https://localhost:8080/",
          "height": 249
        }
      },
      "source": [
        "# ensemble learning CROSS VALIDATED\n",
        "\n",
        "voting_cl = VotingClassifier(estimators = [('Decision Tree', classifier_DTC),\n",
        "                                              ('Random Forest',classifier_RFC),\n",
        "                                              ('Ada Boost',classifier_ABC_RF)], \n",
        "                                voting = 'hard')\n",
        "kfold = KFold(n_splits=10)\n",
        "y_pred_vcl = cross_val_predict(voting_cl, X_no_split, y_no_split, cv=kfold) #Cross validation on training set\n",
        "\n",
        "\n",
        "f1_scores_Ensemble=f1_score(y_no_split, y_pred_vcl, average=None)\n",
        "mean(f1_scores_Ensemble)"
      ],
      "execution_count": null,
      "outputs": [
        {
          "output_type": "error",
          "ename": "NameError",
          "evalue": "ignored",
          "traceback": [
            "\u001b[0;31m---------------------------------------------------------------------------\u001b[0m",
            "\u001b[0;31mNameError\u001b[0m                                 Traceback (most recent call last)",
            "\u001b[0;32m<ipython-input-128-1633e9d29d62>\u001b[0m in \u001b[0;36m<module>\u001b[0;34m()\u001b[0m\n\u001b[1;32m      3\u001b[0m \u001b[0mvoting_cl\u001b[0m \u001b[0;34m=\u001b[0m \u001b[0mVotingClassifier\u001b[0m\u001b[0;34m(\u001b[0m\u001b[0mestimators\u001b[0m \u001b[0;34m=\u001b[0m \u001b[0;34m[\u001b[0m\u001b[0;34m(\u001b[0m\u001b[0;34m'Decision Tree'\u001b[0m\u001b[0;34m,\u001b[0m \u001b[0mclassifier_DTC\u001b[0m\u001b[0;34m)\u001b[0m\u001b[0;34m,\u001b[0m \u001b[0;34m(\u001b[0m\u001b[0;34m'Random Forest'\u001b[0m\u001b[0;34m,\u001b[0m\u001b[0mclassifier_RFC\u001b[0m\u001b[0;34m)\u001b[0m\u001b[0;34m,\u001b[0m \u001b[0;34m(\u001b[0m\u001b[0;34m'Ada Boost'\u001b[0m\u001b[0;34m,\u001b[0m\u001b[0mclassifier_ABC_RF\u001b[0m\u001b[0;34m)\u001b[0m\u001b[0;34m,\u001b[0m \u001b[0;34m(\u001b[0m\u001b[0;34m'Gradient Boost'\u001b[0m\u001b[0;34m,\u001b[0m\u001b[0mGradientBoostingClassifier\u001b[0m\u001b[0;34m)\u001b[0m\u001b[0;34m]\u001b[0m\u001b[0;34m,\u001b[0m \u001b[0mvoting\u001b[0m \u001b[0;34m=\u001b[0m \u001b[0;34m'hard'\u001b[0m\u001b[0;34m)\u001b[0m\u001b[0;34m\u001b[0m\u001b[0;34m\u001b[0m\u001b[0m\n\u001b[1;32m      4\u001b[0m \u001b[0mkfold\u001b[0m \u001b[0;34m=\u001b[0m \u001b[0mKFold\u001b[0m\u001b[0;34m(\u001b[0m\u001b[0mn_splits\u001b[0m\u001b[0;34m=\u001b[0m\u001b[0;36m10\u001b[0m\u001b[0;34m)\u001b[0m\u001b[0;34m\u001b[0m\u001b[0;34m\u001b[0m\u001b[0m\n\u001b[0;32m----> 5\u001b[0;31m \u001b[0my_pred_vcl\u001b[0m \u001b[0;34m=\u001b[0m \u001b[0mcross_val_predict\u001b[0m\u001b[0;34m(\u001b[0m\u001b[0mvoting_cl\u001b[0m\u001b[0;34m,\u001b[0m \u001b[0mX_no_split\u001b[0m\u001b[0;34m,\u001b[0m \u001b[0my_no_split\u001b[0m\u001b[0;34m,\u001b[0m \u001b[0mcv\u001b[0m\u001b[0;34m=\u001b[0m\u001b[0mkfold\u001b[0m\u001b[0;34m)\u001b[0m \u001b[0;31m#Cross validation on training set\u001b[0m\u001b[0;34m\u001b[0m\u001b[0;34m\u001b[0m\u001b[0m\n\u001b[0m\u001b[1;32m      6\u001b[0m \u001b[0;34m\u001b[0m\u001b[0m\n\u001b[1;32m      7\u001b[0m \u001b[0;34m\u001b[0m\u001b[0m\n",
            "\u001b[0;31mNameError\u001b[0m: name 'X_no_split' is not defined"
          ]
        }
      ]
    },
    {
      "cell_type": "markdown",
      "metadata": {
        "id": "1cqVGSAEo-Jt"
      },
      "source": [
        "# Feature evaluation"
      ]
    },
    {
      "cell_type": "code",
      "metadata": {
        "id": "yncS1jThpDZO",
        "outputId": "a4f4b25a-b08c-4d92-edc6-5daa23ea734b",
        "colab": {
          "base_uri": "https://localhost:8080/",
          "height": 340
        }
      },
      "source": [
        "# determining which feature contribute most significantly to prediction\n",
        "\n",
        "\n",
        "\n",
        "importances = classifier_RFC.feature_importances_\n",
        "std = np.std([tree.feature_importances_ for tree in classifier_RFC.estimators_],\n",
        "             axis=0)\n",
        "indices = np.argsort(importances)[::-1]\n",
        "\n",
        "# Print the feature ranking\n",
        "print(\"Feature ranking:\")\n",
        "\n",
        "for f in range(X_nor.shape[1]):\n",
        "    print(\"%d. feature %d (%s) (%f)\" % (f + 1, indices[f], X_nor.columns[indices[f]], importances[indices[f]]))"
      ],
      "execution_count": null,
      "outputs": [
        {
          "output_type": "stream",
          "text": [
            "Feature ranking:\n",
            "1. feature 4 (rating_count) (0.182981)\n",
            "2. feature 12 (merchant_rating) (0.135871)\n",
            "3. feature 11 (merchant_rating_count) (0.124843)\n",
            "4. feature 0 (price) (0.079496)\n",
            "5. feature 1 (retail_price) (0.076236)\n",
            "6. feature 17 (tag_count) (0.072905)\n",
            "7. feature 14 (diff_in_price) (0.072249)\n",
            "8. feature 2 (units_sold) (0.062142)\n",
            "9. feature 8 (product_variation_inventory) (0.050085)\n",
            "10. feature 9 (shipping_option_price) (0.037819)\n",
            "11. feature 6 (badge_product_quality) (0.028629)\n",
            "12. feature 5 (badges_count) (0.021484)\n",
            "13. feature 10 (has_urgency_banner) (0.018654)\n",
            "14. feature 3 (uses_ad_boosts) (0.017830)\n",
            "15. feature 13 (merchant_has_profile_picture) (0.008844)\n",
            "16. feature 7 (badge_fast_shipping) (0.004895)\n",
            "17. feature 15 (country__Other) (0.002853)\n",
            "18. feature 16 (country__US) (0.002185)\n"
          ],
          "name": "stdout"
        }
      ]
    },
    {
      "cell_type": "markdown",
      "metadata": {
        "id": "GGzw1umAuSCw"
      },
      "source": [
        "# Predict rating for test_new.csv to be sumbitted on Kaggle"
      ]
    },
    {
      "cell_type": "code",
      "metadata": {
        "id": "O6sZ-wNmH3MC",
        "outputId": "65ef872f-9b29-4784-8517-937287556a73",
        "colab": {
          "base_uri": "https://localhost:8080/",
          "height": 609
        }
      },
      "source": [
        "df_test_for_kaggle"
      ],
      "execution_count": null,
      "outputs": [
        {
          "output_type": "execute_result",
          "data": {
            "text/html": [
              "<div>\n",
              "<style scoped>\n",
              "    .dataframe tbody tr th:only-of-type {\n",
              "        vertical-align: middle;\n",
              "    }\n",
              "\n",
              "    .dataframe tbody tr th {\n",
              "        vertical-align: top;\n",
              "    }\n",
              "\n",
              "    .dataframe thead th {\n",
              "        text-align: right;\n",
              "    }\n",
              "</style>\n",
              "<table border=\"1\" class=\"dataframe\">\n",
              "  <thead>\n",
              "    <tr style=\"text-align: right;\">\n",
              "      <th></th>\n",
              "      <th>price</th>\n",
              "      <th>retail_price</th>\n",
              "      <th>currency_buyer</th>\n",
              "      <th>units_sold</th>\n",
              "      <th>uses_ad_boosts</th>\n",
              "      <th>rating_count</th>\n",
              "      <th>badges_count</th>\n",
              "      <th>badge_local_product</th>\n",
              "      <th>badge_product_quality</th>\n",
              "      <th>badge_fast_shipping</th>\n",
              "      <th>tags</th>\n",
              "      <th>product_color</th>\n",
              "      <th>product_variation_size_id</th>\n",
              "      <th>product_variation_inventory</th>\n",
              "      <th>shipping_option_name</th>\n",
              "      <th>shipping_option_price</th>\n",
              "      <th>shipping_is_express</th>\n",
              "      <th>countries_shipped_to</th>\n",
              "      <th>inventory_total</th>\n",
              "      <th>has_urgency_banner</th>\n",
              "      <th>urgency_text</th>\n",
              "      <th>origin_country</th>\n",
              "      <th>merchant_title</th>\n",
              "      <th>merchant_name</th>\n",
              "      <th>merchant_info_subtitle</th>\n",
              "      <th>merchant_rating_count</th>\n",
              "      <th>merchant_rating</th>\n",
              "      <th>merchant_id</th>\n",
              "      <th>merchant_has_profile_picture</th>\n",
              "      <th>merchant_profile_picture</th>\n",
              "      <th>theme</th>\n",
              "      <th>crawl_month</th>\n",
              "      <th>id</th>\n",
              "    </tr>\n",
              "  </thead>\n",
              "  <tbody>\n",
              "    <tr>\n",
              "      <th>0</th>\n",
              "      <td>5.75</td>\n",
              "      <td>5</td>\n",
              "      <td>EUR</td>\n",
              "      <td>10</td>\n",
              "      <td>1</td>\n",
              "      <td>0</td>\n",
              "      <td>0</td>\n",
              "      <td>0</td>\n",
              "      <td>0</td>\n",
              "      <td>0</td>\n",
              "      <td>Funny,letter print,Fashion,Shirt,Sleeve,Summer...</td>\n",
              "      <td>white</td>\n",
              "      <td>XS</td>\n",
              "      <td>5</td>\n",
              "      <td>Livraison standard</td>\n",
              "      <td>2</td>\n",
              "      <td>0</td>\n",
              "      <td>139</td>\n",
              "      <td>50</td>\n",
              "      <td>NaN</td>\n",
              "      <td>NaN</td>\n",
              "      <td>CN</td>\n",
              "      <td>liyang163</td>\n",
              "      <td>liyang163</td>\n",
              "      <td>33 % avis positifs (3 notes)</td>\n",
              "      <td>3</td>\n",
              "      <td>2.333333</td>\n",
              "      <td>5e63469b2fdc774466e15dd5</td>\n",
              "      <td>0</td>\n",
              "      <td>NaN</td>\n",
              "      <td>summer</td>\n",
              "      <td>2020-08</td>\n",
              "      <td>937</td>\n",
              "    </tr>\n",
              "    <tr>\n",
              "      <th>1</th>\n",
              "      <td>7.00</td>\n",
              "      <td>7</td>\n",
              "      <td>EUR</td>\n",
              "      <td>5000</td>\n",
              "      <td>0</td>\n",
              "      <td>579</td>\n",
              "      <td>0</td>\n",
              "      <td>0</td>\n",
              "      <td>0</td>\n",
              "      <td>0</td>\n",
              "      <td>Women Vest,Vest,Fashion,Women Blouse,long dres...</td>\n",
              "      <td>black</td>\n",
              "      <td>XS</td>\n",
              "      <td>50</td>\n",
              "      <td>Livraison standard</td>\n",
              "      <td>2</td>\n",
              "      <td>0</td>\n",
              "      <td>31</td>\n",
              "      <td>50</td>\n",
              "      <td>NaN</td>\n",
              "      <td>NaN</td>\n",
              "      <td>CN</td>\n",
              "      <td>singing  the  song</td>\n",
              "      <td>singingthesong</td>\n",
              "      <td>86 % avis positifs (4,213 notes)</td>\n",
              "      <td>4213</td>\n",
              "      <td>4.058391</td>\n",
              "      <td>583547f417dc6224cb464117</td>\n",
              "      <td>0</td>\n",
              "      <td>NaN</td>\n",
              "      <td>summer</td>\n",
              "      <td>2020-08</td>\n",
              "      <td>270</td>\n",
              "    </tr>\n",
              "    <tr>\n",
              "      <th>2</th>\n",
              "      <td>5.00</td>\n",
              "      <td>16</td>\n",
              "      <td>EUR</td>\n",
              "      <td>1000</td>\n",
              "      <td>1</td>\n",
              "      <td>62</td>\n",
              "      <td>0</td>\n",
              "      <td>0</td>\n",
              "      <td>0</td>\n",
              "      <td>0</td>\n",
              "      <td>hollowouttanktop,Tanktops for women,Plus Size,...</td>\n",
              "      <td>blue</td>\n",
              "      <td>XS</td>\n",
              "      <td>20</td>\n",
              "      <td>Livraison standard</td>\n",
              "      <td>2</td>\n",
              "      <td>0</td>\n",
              "      <td>41</td>\n",
              "      <td>50</td>\n",
              "      <td>NaN</td>\n",
              "      <td>NaN</td>\n",
              "      <td>CN</td>\n",
              "      <td>Surper boutique</td>\n",
              "      <td>surperboutique</td>\n",
              "      <td>85 % avis positifs (10,501 notes)</td>\n",
              "      <td>10501</td>\n",
              "      <td>4.029235</td>\n",
              "      <td>57086fd7fa6bee434d0e5852</td>\n",
              "      <td>0</td>\n",
              "      <td>NaN</td>\n",
              "      <td>summer</td>\n",
              "      <td>2020-08</td>\n",
              "      <td>308</td>\n",
              "    </tr>\n",
              "    <tr>\n",
              "      <th>3</th>\n",
              "      <td>18.00</td>\n",
              "      <td>27</td>\n",
              "      <td>EUR</td>\n",
              "      <td>5000</td>\n",
              "      <td>1</td>\n",
              "      <td>1903</td>\n",
              "      <td>0</td>\n",
              "      <td>0</td>\n",
              "      <td>0</td>\n",
              "      <td>0</td>\n",
              "      <td>men jeans,Shorts,Summer,Vintage,Denim,Men,casu...</td>\n",
              "      <td>blue</td>\n",
              "      <td>M</td>\n",
              "      <td>50</td>\n",
              "      <td>Livraison standard</td>\n",
              "      <td>5</td>\n",
              "      <td>0</td>\n",
              "      <td>42</td>\n",
              "      <td>50</td>\n",
              "      <td>NaN</td>\n",
              "      <td>NaN</td>\n",
              "      <td>CN</td>\n",
              "      <td>postonny</td>\n",
              "      <td>postonny</td>\n",
              "      <td>86 % avis positifs (15,855 notes)</td>\n",
              "      <td>15855</td>\n",
              "      <td>4.052917</td>\n",
              "      <td>5a17b55d1f4d8c4f0b44b0ce</td>\n",
              "      <td>0</td>\n",
              "      <td>NaN</td>\n",
              "      <td>summer</td>\n",
              "      <td>2020-08</td>\n",
              "      <td>913</td>\n",
              "    </tr>\n",
              "    <tr>\n",
              "      <th>4</th>\n",
              "      <td>12.00</td>\n",
              "      <td>81</td>\n",
              "      <td>EUR</td>\n",
              "      <td>20000</td>\n",
              "      <td>0</td>\n",
              "      <td>1799</td>\n",
              "      <td>0</td>\n",
              "      <td>0</td>\n",
              "      <td>0</td>\n",
              "      <td>0</td>\n",
              "      <td>Shorts,Lace,pants,Dress,Women Leggings,Hot pan...</td>\n",
              "      <td>white</td>\n",
              "      <td>M</td>\n",
              "      <td>50</td>\n",
              "      <td>Livraison standard</td>\n",
              "      <td>3</td>\n",
              "      <td>0</td>\n",
              "      <td>38</td>\n",
              "      <td>50</td>\n",
              "      <td>NaN</td>\n",
              "      <td>NaN</td>\n",
              "      <td>CN</td>\n",
              "      <td>fashionforgirls</td>\n",
              "      <td>guangzhouchanny</td>\n",
              "      <td>88 % avis positifs (151,914 notes)</td>\n",
              "      <td>151914</td>\n",
              "      <td>4.127921</td>\n",
              "      <td>53aa664438d3046ee44a5024</td>\n",
              "      <td>0</td>\n",
              "      <td>NaN</td>\n",
              "      <td>summer</td>\n",
              "      <td>2020-08</td>\n",
              "      <td>403</td>\n",
              "    </tr>\n",
              "    <tr>\n",
              "      <th>...</th>\n",
              "      <td>...</td>\n",
              "      <td>...</td>\n",
              "      <td>...</td>\n",
              "      <td>...</td>\n",
              "      <td>...</td>\n",
              "      <td>...</td>\n",
              "      <td>...</td>\n",
              "      <td>...</td>\n",
              "      <td>...</td>\n",
              "      <td>...</td>\n",
              "      <td>...</td>\n",
              "      <td>...</td>\n",
              "      <td>...</td>\n",
              "      <td>...</td>\n",
              "      <td>...</td>\n",
              "      <td>...</td>\n",
              "      <td>...</td>\n",
              "      <td>...</td>\n",
              "      <td>...</td>\n",
              "      <td>...</td>\n",
              "      <td>...</td>\n",
              "      <td>...</td>\n",
              "      <td>...</td>\n",
              "      <td>...</td>\n",
              "      <td>...</td>\n",
              "      <td>...</td>\n",
              "      <td>...</td>\n",
              "      <td>...</td>\n",
              "      <td>...</td>\n",
              "      <td>...</td>\n",
              "      <td>...</td>\n",
              "      <td>...</td>\n",
              "      <td>...</td>\n",
              "    </tr>\n",
              "    <tr>\n",
              "      <th>474</th>\n",
              "      <td>16.00</td>\n",
              "      <td>14</td>\n",
              "      <td>EUR</td>\n",
              "      <td>100</td>\n",
              "      <td>1</td>\n",
              "      <td>27</td>\n",
              "      <td>0</td>\n",
              "      <td>0</td>\n",
              "      <td>0</td>\n",
              "      <td>0</td>\n",
              "      <td>mensummertshirt,Summer,Fashion,Men's Fashion,S...</td>\n",
              "      <td>black</td>\n",
              "      <td>M</td>\n",
              "      <td>50</td>\n",
              "      <td>Livraison standard</td>\n",
              "      <td>4</td>\n",
              "      <td>0</td>\n",
              "      <td>35</td>\n",
              "      <td>50</td>\n",
              "      <td>NaN</td>\n",
              "      <td>NaN</td>\n",
              "      <td>VE</td>\n",
              "      <td>HERNADEZYELI</td>\n",
              "      <td>hernadezyeli</td>\n",
              "      <td>70 % avis positifs (572 notes)</td>\n",
              "      <td>572</td>\n",
              "      <td>3.367133</td>\n",
              "      <td>5dc818ca030a154e48a3a8af</td>\n",
              "      <td>0</td>\n",
              "      <td>NaN</td>\n",
              "      <td>summer</td>\n",
              "      <td>2020-08</td>\n",
              "      <td>1166</td>\n",
              "    </tr>\n",
              "    <tr>\n",
              "      <th>475</th>\n",
              "      <td>6.00</td>\n",
              "      <td>17</td>\n",
              "      <td>EUR</td>\n",
              "      <td>5000</td>\n",
              "      <td>1</td>\n",
              "      <td>817</td>\n",
              "      <td>0</td>\n",
              "      <td>0</td>\n",
              "      <td>0</td>\n",
              "      <td>0</td>\n",
              "      <td>blouse,Summer,Vest,Plus Size,letter print,cute...</td>\n",
              "      <td>blue</td>\n",
              "      <td>XXS</td>\n",
              "      <td>1</td>\n",
              "      <td>Livraison standard</td>\n",
              "      <td>2</td>\n",
              "      <td>0</td>\n",
              "      <td>41</td>\n",
              "      <td>50</td>\n",
              "      <td>NaN</td>\n",
              "      <td>NaN</td>\n",
              "      <td>CN</td>\n",
              "      <td>First Crush</td>\n",
              "      <td>firstcrush</td>\n",
              "      <td>87 % avis positifs (50,864 notes)</td>\n",
              "      <td>50864</td>\n",
              "      <td>4.079644</td>\n",
              "      <td>587f85cbb8038f4cb049c56c</td>\n",
              "      <td>1</td>\n",
              "      <td>https://s3-us-west-1.amazonaws.com/sweeper-pro...</td>\n",
              "      <td>summer</td>\n",
              "      <td>2020-08</td>\n",
              "      <td>1416</td>\n",
              "    </tr>\n",
              "    <tr>\n",
              "      <th>476</th>\n",
              "      <td>4.83</td>\n",
              "      <td>51</td>\n",
              "      <td>EUR</td>\n",
              "      <td>50</td>\n",
              "      <td>1</td>\n",
              "      <td>1</td>\n",
              "      <td>0</td>\n",
              "      <td>0</td>\n",
              "      <td>0</td>\n",
              "      <td>0</td>\n",
              "      <td>blouse,Summer,Plus Size,Tops &amp; Blouses,Shirt,W...</td>\n",
              "      <td>white</td>\n",
              "      <td>XS</td>\n",
              "      <td>3</td>\n",
              "      <td>Livraison standard</td>\n",
              "      <td>1</td>\n",
              "      <td>0</td>\n",
              "      <td>39</td>\n",
              "      <td>50</td>\n",
              "      <td>1.0</td>\n",
              "      <td>Quantité limitée !</td>\n",
              "      <td>VE</td>\n",
              "      <td>saulstore</td>\n",
              "      <td>saulstore</td>\n",
              "      <td>85 % avis positifs (57 notes)</td>\n",
              "      <td>57</td>\n",
              "      <td>3.824561</td>\n",
              "      <td>5e3c5fbfe217d492138970c1</td>\n",
              "      <td>0</td>\n",
              "      <td>NaN</td>\n",
              "      <td>summer</td>\n",
              "      <td>2020-08</td>\n",
              "      <td>63</td>\n",
              "    </tr>\n",
              "    <tr>\n",
              "      <th>477</th>\n",
              "      <td>3.00</td>\n",
              "      <td>3</td>\n",
              "      <td>EUR</td>\n",
              "      <td>100</td>\n",
              "      <td>1</td>\n",
              "      <td>8</td>\n",
              "      <td>0</td>\n",
              "      <td>0</td>\n",
              "      <td>0</td>\n",
              "      <td>0</td>\n",
              "      <td>Summer,slideslipper,Sandals,fur,Indoor,Fox,Ind...</td>\n",
              "      <td>black</td>\n",
              "      <td>34</td>\n",
              "      <td>3</td>\n",
              "      <td>Livraison standard</td>\n",
              "      <td>1</td>\n",
              "      <td>0</td>\n",
              "      <td>26</td>\n",
              "      <td>50</td>\n",
              "      <td>1.0</td>\n",
              "      <td>Quantité limitée !</td>\n",
              "      <td>CN</td>\n",
              "      <td>lkwelyly</td>\n",
              "      <td>hey1827</td>\n",
              "      <td>87 % avis positifs (1,086 notes)</td>\n",
              "      <td>1086</td>\n",
              "      <td>4.056169</td>\n",
              "      <td>5c6d6c28619caa1d94891d06</td>\n",
              "      <td>0</td>\n",
              "      <td>NaN</td>\n",
              "      <td>summer</td>\n",
              "      <td>2020-08</td>\n",
              "      <td>626</td>\n",
              "    </tr>\n",
              "    <tr>\n",
              "      <th>478</th>\n",
              "      <td>13.00</td>\n",
              "      <td>11</td>\n",
              "      <td>EUR</td>\n",
              "      <td>100</td>\n",
              "      <td>1</td>\n",
              "      <td>4</td>\n",
              "      <td>0</td>\n",
              "      <td>0</td>\n",
              "      <td>0</td>\n",
              "      <td>0</td>\n",
              "      <td>Summer,Plus Size,2pieceset,Women,slim,T Shirts...</td>\n",
              "      <td>yellow</td>\n",
              "      <td>S</td>\n",
              "      <td>29</td>\n",
              "      <td>Expediere Standard</td>\n",
              "      <td>3</td>\n",
              "      <td>0</td>\n",
              "      <td>42</td>\n",
              "      <td>50</td>\n",
              "      <td>1.0</td>\n",
              "      <td>Quantité limitée !</td>\n",
              "      <td>CN</td>\n",
              "      <td>rtgh</td>\n",
              "      <td>rtgh710402e4b24511e6b69106d0c1a90220</td>\n",
              "      <td>86% Feedback pozitiv (45,151 rating)</td>\n",
              "      <td>45151</td>\n",
              "      <td>4.032956</td>\n",
              "      <td>5836e38728f25753fe6af6a8</td>\n",
              "      <td>0</td>\n",
              "      <td>NaN</td>\n",
              "      <td>summer</td>\n",
              "      <td>2020-08</td>\n",
              "      <td>196</td>\n",
              "    </tr>\n",
              "  </tbody>\n",
              "</table>\n",
              "<p>479 rows × 33 columns</p>\n",
              "</div>"
            ],
            "text/plain": [
              "     price  retail_price currency_buyer  ...   theme  crawl_month    id\n",
              "0     5.75             5            EUR  ...  summer      2020-08   937\n",
              "1     7.00             7            EUR  ...  summer      2020-08   270\n",
              "2     5.00            16            EUR  ...  summer      2020-08   308\n",
              "3    18.00            27            EUR  ...  summer      2020-08   913\n",
              "4    12.00            81            EUR  ...  summer      2020-08   403\n",
              "..     ...           ...            ...  ...     ...          ...   ...\n",
              "474  16.00            14            EUR  ...  summer      2020-08  1166\n",
              "475   6.00            17            EUR  ...  summer      2020-08  1416\n",
              "476   4.83            51            EUR  ...  summer      2020-08    63\n",
              "477   3.00             3            EUR  ...  summer      2020-08   626\n",
              "478  13.00            11            EUR  ...  summer      2020-08   196\n",
              "\n",
              "[479 rows x 33 columns]"
            ]
          },
          "metadata": {
            "tags": []
          },
          "execution_count": 58
        }
      ]
    },
    {
      "cell_type": "code",
      "metadata": {
        "id": "xPSEISK7IIxS"
      },
      "source": [
        "# peak into data\n",
        "\n",
        "# print first and last few rows of the dataset\n",
        "print(df_test_for_kaggle.head())\n",
        "print(df_test_for_kaggle.tail())\n",
        "\n",
        "# print all column headers + type\n",
        "print(df_test_for_kaggle.info())\n",
        "\n",
        "# checking for missing values for every feature\n",
        "df_test_for_kaggle.isnull().sum()"
      ],
      "execution_count": null,
      "outputs": []
    },
    {
      "cell_type": "code",
      "metadata": {
        "id": "aglgpCcjIVSe",
        "outputId": "a3b57104-3829-4218-822b-04c025ea3924",
        "colab": {
          "base_uri": "https://localhost:8080/",
          "height": 504
        }
      },
      "source": [
        "# fixing some of the feature formatting for uniformity \n",
        "\n",
        "# fixing 'has_urgency_banner'\n",
        "# has_urgency_banner needs to be converted binomial so here I am filling 0 for the missing values\n",
        "df_test_for_kaggle['has_urgency_banner'] = df_test_for_kaggle['has_urgency_banner'].fillna(0)\n",
        "# has_urgency_banner needs to be converted binomial so here I am converting to int to match other binary columns\n",
        "df_test_for_kaggle.has_urgency_banner = df_test_for_kaggle.has_urgency_banner.astype(int)\n",
        "\n",
        "# fixing 'urgency_text'\n",
        "# has_urgency_banner needs to be converted binomial so here I am filling 0 for the missing values\n",
        "df_test_for_kaggle['urgency_text'] = df_test_for_kaggle['urgency_text'].fillna(0)\n",
        "# convert string to int to change uantité limitée ! to NaN\n",
        "df_test_for_kaggle.urgency_text = pd.to_numeric(df_test_for_kaggle.urgency_text, errors='coerce')\n",
        "# Nan to 1 to create binary field\n",
        "df_test_for_kaggle['urgency_text'] = df_test_for_kaggle['urgency_text'].fillna(1)\n",
        "# has_urgency_banner needs to be converted binomial so here I am converting to int to match other binary columns\n",
        "df_test_for_kaggle.urgency_text = df_test_for_kaggle.urgency_text.astype(int)\n",
        "\n",
        "# Since this feature consists mainly of US and China we can combine the rest into others\n",
        "df_test_for_kaggle['origin_country'] = df_test_for_kaggle['origin_country'].replace('VE', 'Other')\n",
        "df_test_for_kaggle['origin_country'] = df_test_for_kaggle['origin_country'].replace('AT', 'Other')\n",
        "df_test_for_kaggle['origin_country'] = df_test_for_kaggle['origin_country'].replace('SG', 'Other')\n",
        "df_test_for_kaggle['origin_country'] = df_test_for_kaggle['origin_country'].replace('GB', 'Other')\n",
        "df_test_for_kaggle['origin_country'] = df_test_for_kaggle['origin_country'].replace(np.nan, 'Other')\n",
        "# visual check to see if it correctly categorized everything\n",
        "sns.countplot('origin_country', data=df_test_for_kaggle)\n",
        "\n",
        "def below_ten(units_sold):\n",
        "    if units_sold < 10:\n",
        "        return 10\n",
        "    else:\n",
        "        return units_sold\n",
        "\n",
        "df_test_for_kaggle['units_sold'] = df_test_for_kaggle['units_sold'].apply(below_ten)\n",
        "# checking for distribution of units sold to see if it correctly categorized everything\n",
        "df_test_for_kaggle['units_sold'].value_counts()"
      ],
      "execution_count": null,
      "outputs": [
        {
          "output_type": "stream",
          "text": [
            "/usr/local/lib/python3.6/dist-packages/seaborn/_decorators.py:43: FutureWarning: Pass the following variable as a keyword arg: x. From version 0.12, the only valid positional argument will be `data`, and passing other arguments without an explicit keyword will result in an error or misinterpretation.\n",
            "  FutureWarning\n"
          ],
          "name": "stderr"
        },
        {
          "output_type": "execute_result",
          "data": {
            "text/plain": [
              "100       156\n",
              "1000      125\n",
              "5000       78\n",
              "10000      52\n",
              "20000      24\n",
              "50         22\n",
              "10         16\n",
              "50000       5\n",
              "100000      1\n",
              "Name: units_sold, dtype: int64"
            ]
          },
          "metadata": {
            "tags": []
          },
          "execution_count": 59
        },
        {
          "output_type": "display_data",
          "data": {
            "image/png": "[encoded data removed]",
            "text/plain": [
              "<Figure size 432x288 with 1 Axes>"
            ]
          },
          "metadata": {
            "tags": [],
            "needs_background": "light"
          }
        }
      ]
    },
    {
      "cell_type": "code",
      "metadata": {
        "id": "tK1tSD8wIqDS"
      },
      "source": [
        "# drop unneeded columns from dataset\n",
        "df_test_for_kaggle.drop(['currency_buyer', 'theme','crawl_month', 'shipping_option_name','inventory_total','merchant_name','merchant_title','merchant_info_subtitle','id','merchant_profile_picture','urgency_text','countries_shipped_to','product_color','product_variation_size_id','merchant_id','shipping_is_express','badge_local_product'], axis=1, inplace=True)\n",
        "\n"
      ],
      "execution_count": null,
      "outputs": []
    },
    {
      "cell_type": "code",
      "metadata": {
        "id": "RbqaLB5VIwbS",
        "outputId": "8e67fad7-4b92-44a4-bd9c-e753391cbb74",
        "colab": {
          "base_uri": "https://localhost:8080/",
          "height": 292
        }
      },
      "source": [
        "# normalizing feature to prepare data for model prediction (for origin_country)\n",
        "df_test_for_kaggle = pd.get_dummies(df_test_for_kaggle, columns = ['origin_country'],\n",
        "                    prefix = 'country_',drop_first = True)\n",
        "# quick check to see if it worked\n",
        "df_test_for_kaggle.head()"
      ],
      "execution_count": null,
      "outputs": [
        {
          "output_type": "execute_result",
          "data": {
            "text/html": [
              "<div>\n",
              "<style scoped>\n",
              "    .dataframe tbody tr th:only-of-type {\n",
              "        vertical-align: middle;\n",
              "    }\n",
              "\n",
              "    .dataframe tbody tr th {\n",
              "        vertical-align: top;\n",
              "    }\n",
              "\n",
              "    .dataframe thead th {\n",
              "        text-align: right;\n",
              "    }\n",
              "</style>\n",
              "<table border=\"1\" class=\"dataframe\">\n",
              "  <thead>\n",
              "    <tr style=\"text-align: right;\">\n",
              "      <th></th>\n",
              "      <th>price</th>\n",
              "      <th>retail_price</th>\n",
              "      <th>units_sold</th>\n",
              "      <th>uses_ad_boosts</th>\n",
              "      <th>rating_count</th>\n",
              "      <th>badges_count</th>\n",
              "      <th>badge_product_quality</th>\n",
              "      <th>badge_fast_shipping</th>\n",
              "      <th>tags</th>\n",
              "      <th>product_variation_inventory</th>\n",
              "      <th>shipping_option_price</th>\n",
              "      <th>has_urgency_banner</th>\n",
              "      <th>merchant_rating_count</th>\n",
              "      <th>merchant_rating</th>\n",
              "      <th>merchant_has_profile_picture</th>\n",
              "      <th>country__Other</th>\n",
              "      <th>country__US</th>\n",
              "    </tr>\n",
              "  </thead>\n",
              "  <tbody>\n",
              "    <tr>\n",
              "      <th>0</th>\n",
              "      <td>5.75</td>\n",
              "      <td>5</td>\n",
              "      <td>10</td>\n",
              "      <td>1</td>\n",
              "      <td>0</td>\n",
              "      <td>0</td>\n",
              "      <td>0</td>\n",
              "      <td>0</td>\n",
              "      <td>Funny,letter print,Fashion,Shirt,Sleeve,Summer...</td>\n",
              "      <td>5</td>\n",
              "      <td>2</td>\n",
              "      <td>0</td>\n",
              "      <td>3</td>\n",
              "      <td>2.333333</td>\n",
              "      <td>0</td>\n",
              "      <td>0</td>\n",
              "      <td>0</td>\n",
              "    </tr>\n",
              "    <tr>\n",
              "      <th>1</th>\n",
              "      <td>7.00</td>\n",
              "      <td>7</td>\n",
              "      <td>5000</td>\n",
              "      <td>0</td>\n",
              "      <td>579</td>\n",
              "      <td>0</td>\n",
              "      <td>0</td>\n",
              "      <td>0</td>\n",
              "      <td>Women Vest,Vest,Fashion,Women Blouse,long dres...</td>\n",
              "      <td>50</td>\n",
              "      <td>2</td>\n",
              "      <td>0</td>\n",
              "      <td>4213</td>\n",
              "      <td>4.058391</td>\n",
              "      <td>0</td>\n",
              "      <td>0</td>\n",
              "      <td>0</td>\n",
              "    </tr>\n",
              "    <tr>\n",
              "      <th>2</th>\n",
              "      <td>5.00</td>\n",
              "      <td>16</td>\n",
              "      <td>1000</td>\n",
              "      <td>1</td>\n",
              "      <td>62</td>\n",
              "      <td>0</td>\n",
              "      <td>0</td>\n",
              "      <td>0</td>\n",
              "      <td>hollowouttanktop,Tanktops for women,Plus Size,...</td>\n",
              "      <td>20</td>\n",
              "      <td>2</td>\n",
              "      <td>0</td>\n",
              "      <td>10501</td>\n",
              "      <td>4.029235</td>\n",
              "      <td>0</td>\n",
              "      <td>0</td>\n",
              "      <td>0</td>\n",
              "    </tr>\n",
              "    <tr>\n",
              "      <th>3</th>\n",
              "      <td>18.00</td>\n",
              "      <td>27</td>\n",
              "      <td>5000</td>\n",
              "      <td>1</td>\n",
              "      <td>1903</td>\n",
              "      <td>0</td>\n",
              "      <td>0</td>\n",
              "      <td>0</td>\n",
              "      <td>men jeans,Shorts,Summer,Vintage,Denim,Men,casu...</td>\n",
              "      <td>50</td>\n",
              "      <td>5</td>\n",
              "      <td>0</td>\n",
              "      <td>15855</td>\n",
              "      <td>4.052917</td>\n",
              "      <td>0</td>\n",
              "      <td>0</td>\n",
              "      <td>0</td>\n",
              "    </tr>\n",
              "    <tr>\n",
              "      <th>4</th>\n",
              "      <td>12.00</td>\n",
              "      <td>81</td>\n",
              "      <td>20000</td>\n",
              "      <td>0</td>\n",
              "      <td>1799</td>\n",
              "      <td>0</td>\n",
              "      <td>0</td>\n",
              "      <td>0</td>\n",
              "      <td>Shorts,Lace,pants,Dress,Women Leggings,Hot pan...</td>\n",
              "      <td>50</td>\n",
              "      <td>3</td>\n",
              "      <td>0</td>\n",
              "      <td>151914</td>\n",
              "      <td>4.127921</td>\n",
              "      <td>0</td>\n",
              "      <td>0</td>\n",
              "      <td>0</td>\n",
              "    </tr>\n",
              "  </tbody>\n",
              "</table>\n",
              "</div>"
            ],
            "text/plain": [
              "   price  retail_price  ...  country__Other  country__US\n",
              "0   5.75             5  ...               0            0\n",
              "1   7.00             7  ...               0            0\n",
              "2   5.00            16  ...               0            0\n",
              "3  18.00            27  ...               0            0\n",
              "4  12.00            81  ...               0            0\n",
              "\n",
              "[5 rows x 17 columns]"
            ]
          },
          "metadata": {
            "tags": []
          },
          "execution_count": 61
        }
      ]
    },
    {
      "cell_type": "code",
      "metadata": {
        "id": "U08FYb3II23Z"
      },
      "source": [
        "# breaking up the tag column to see the number of tags per row. \n",
        "def tag_count(tags):\n",
        "    tag_str = tags\n",
        "    prod_tags = tag_str.split(',')\n",
        "    return len(prod_tags)\n",
        "    \n",
        "# replaced tags with tag_count from above to the df\n",
        "df_test_for_kaggle['tag_count'] = df_test_for_kaggle['tags'].apply(tag_count)\n",
        "df_test_for_kaggle.drop(['tags'], axis=1, inplace=True)"
      ],
      "execution_count": null,
      "outputs": []
    },
    {
      "cell_type": "code",
      "metadata": {
        "id": "wPu0bqkJ9rIj"
      },
      "source": [
        "# checking to see if difference in price between retail and price is associated with ratings\n",
        "df_test_for_kaggle['diff_in_price'] = round(df_test_for_kaggle['retail_price'] - df_test_for_kaggle['price'],2)\n"
      ],
      "execution_count": null,
      "outputs": []
    },
    {
      "cell_type": "code",
      "metadata": {
        "id": "ggRbGYcCI-JZ"
      },
      "source": [
        "# CAUTION: only run if you want to normalize values\n",
        "\n",
        "\n",
        "min_max_scaler_kaggle = preprocessing.MinMaxScaler()\n",
        "x_scaled_kaggle = min_max_scaler_kaggle.fit_transform(df_test_for_kaggle)\n",
        "df_normalized_kaggle=pd.DataFrame(x_scaled_kaggle, columns=df_test_for_kaggle.columns)"
      ],
      "execution_count": null,
      "outputs": []
    },
    {
      "cell_type": "code",
      "metadata": {
        "id": "OPwVuW2uHQ8V",
        "outputId": "6a8c76f6-3c5f-4e1a-d481-67af97d82249",
        "colab": {
          "base_uri": "https://localhost:8080/",
          "height": 439
        }
      },
      "source": [
        "df_normalized_kaggle"
      ],
      "execution_count": null,
      "outputs": [
        {
          "output_type": "execute_result",
          "data": {
            "text/html": [
              "<div>\n",
              "<style scoped>\n",
              "    .dataframe tbody tr th:only-of-type {\n",
              "        vertical-align: middle;\n",
              "    }\n",
              "\n",
              "    .dataframe tbody tr th {\n",
              "        vertical-align: top;\n",
              "    }\n",
              "\n",
              "    .dataframe thead th {\n",
              "        text-align: right;\n",
              "    }\n",
              "</style>\n",
              "<table border=\"1\" class=\"dataframe\">\n",
              "  <thead>\n",
              "    <tr style=\"text-align: right;\">\n",
              "      <th></th>\n",
              "      <th>price</th>\n",
              "      <th>retail_price</th>\n",
              "      <th>units_sold</th>\n",
              "      <th>uses_ad_boosts</th>\n",
              "      <th>rating_count</th>\n",
              "      <th>badges_count</th>\n",
              "      <th>badge_product_quality</th>\n",
              "      <th>badge_fast_shipping</th>\n",
              "      <th>product_variation_inventory</th>\n",
              "      <th>shipping_option_price</th>\n",
              "      <th>has_urgency_banner</th>\n",
              "      <th>merchant_rating_count</th>\n",
              "      <th>merchant_rating</th>\n",
              "      <th>merchant_has_profile_picture</th>\n",
              "      <th>country__Other</th>\n",
              "      <th>country__US</th>\n",
              "      <th>tag_count</th>\n",
              "      <th>diff_in_price</th>\n",
              "    </tr>\n",
              "  </thead>\n",
              "  <tbody>\n",
              "    <tr>\n",
              "      <th>0</th>\n",
              "      <td>0.250000</td>\n",
              "      <td>0.023952</td>\n",
              "      <td>0.000000</td>\n",
              "      <td>1.0</td>\n",
              "      <td>0.000000</td>\n",
              "      <td>0.0</td>\n",
              "      <td>0.0</td>\n",
              "      <td>0.0</td>\n",
              "      <td>0.081633</td>\n",
              "      <td>0.166667</td>\n",
              "      <td>0.0</td>\n",
              "      <td>0.000004</td>\n",
              "      <td>0.000000</td>\n",
              "      <td>0.0</td>\n",
              "      <td>0.0</td>\n",
              "      <td>0.0</td>\n",
              "      <td>0.40</td>\n",
              "      <td>0.014063</td>\n",
              "    </tr>\n",
              "    <tr>\n",
              "      <th>1</th>\n",
              "      <td>0.315789</td>\n",
              "      <td>0.035928</td>\n",
              "      <td>0.049905</td>\n",
              "      <td>0.0</td>\n",
              "      <td>0.032202</td>\n",
              "      <td>0.0</td>\n",
              "      <td>0.0</td>\n",
              "      <td>0.0</td>\n",
              "      <td>1.000000</td>\n",
              "      <td>0.166667</td>\n",
              "      <td>0.0</td>\n",
              "      <td>0.005016</td>\n",
              "      <td>0.646897</td>\n",
              "      <td>0.0</td>\n",
              "      <td>0.0</td>\n",
              "      <td>0.0</td>\n",
              "      <td>0.52</td>\n",
              "      <td>0.018750</td>\n",
              "    </tr>\n",
              "    <tr>\n",
              "      <th>2</th>\n",
              "      <td>0.210526</td>\n",
              "      <td>0.089820</td>\n",
              "      <td>0.009901</td>\n",
              "      <td>1.0</td>\n",
              "      <td>0.003448</td>\n",
              "      <td>0.0</td>\n",
              "      <td>0.0</td>\n",
              "      <td>0.0</td>\n",
              "      <td>0.387755</td>\n",
              "      <td>0.166667</td>\n",
              "      <td>0.0</td>\n",
              "      <td>0.012503</td>\n",
              "      <td>0.635963</td>\n",
              "      <td>0.0</td>\n",
              "      <td>0.0</td>\n",
              "      <td>0.0</td>\n",
              "      <td>0.44</td>\n",
              "      <td>0.087500</td>\n",
              "    </tr>\n",
              "    <tr>\n",
              "      <th>3</th>\n",
              "      <td>0.894737</td>\n",
              "      <td>0.155689</td>\n",
              "      <td>0.049905</td>\n",
              "      <td>1.0</td>\n",
              "      <td>0.105840</td>\n",
              "      <td>0.0</td>\n",
              "      <td>0.0</td>\n",
              "      <td>0.0</td>\n",
              "      <td>1.000000</td>\n",
              "      <td>0.666667</td>\n",
              "      <td>0.0</td>\n",
              "      <td>0.018878</td>\n",
              "      <td>0.644844</td>\n",
              "      <td>0.0</td>\n",
              "      <td>0.0</td>\n",
              "      <td>0.0</td>\n",
              "      <td>0.36</td>\n",
              "      <td>0.075000</td>\n",
              "    </tr>\n",
              "    <tr>\n",
              "      <th>4</th>\n",
              "      <td>0.578947</td>\n",
              "      <td>0.479042</td>\n",
              "      <td>0.199920</td>\n",
              "      <td>0.0</td>\n",
              "      <td>0.100056</td>\n",
              "      <td>0.0</td>\n",
              "      <td>0.0</td>\n",
              "      <td>0.0</td>\n",
              "      <td>1.000000</td>\n",
              "      <td>0.333333</td>\n",
              "      <td>0.0</td>\n",
              "      <td>0.180875</td>\n",
              "      <td>0.672970</td>\n",
              "      <td>0.0</td>\n",
              "      <td>0.0</td>\n",
              "      <td>0.0</td>\n",
              "      <td>0.16</td>\n",
              "      <td>0.450000</td>\n",
              "    </tr>\n",
              "    <tr>\n",
              "      <th>...</th>\n",
              "      <td>...</td>\n",
              "      <td>...</td>\n",
              "      <td>...</td>\n",
              "      <td>...</td>\n",
              "      <td>...</td>\n",
              "      <td>...</td>\n",
              "      <td>...</td>\n",
              "      <td>...</td>\n",
              "      <td>...</td>\n",
              "      <td>...</td>\n",
              "      <td>...</td>\n",
              "      <td>...</td>\n",
              "      <td>...</td>\n",
              "      <td>...</td>\n",
              "      <td>...</td>\n",
              "      <td>...</td>\n",
              "      <td>...</td>\n",
              "      <td>...</td>\n",
              "    </tr>\n",
              "    <tr>\n",
              "      <th>474</th>\n",
              "      <td>0.789474</td>\n",
              "      <td>0.077844</td>\n",
              "      <td>0.000900</td>\n",
              "      <td>1.0</td>\n",
              "      <td>0.001502</td>\n",
              "      <td>0.0</td>\n",
              "      <td>0.0</td>\n",
              "      <td>0.0</td>\n",
              "      <td>1.000000</td>\n",
              "      <td>0.500000</td>\n",
              "      <td>0.0</td>\n",
              "      <td>0.000681</td>\n",
              "      <td>0.387675</td>\n",
              "      <td>0.0</td>\n",
              "      <td>1.0</td>\n",
              "      <td>0.0</td>\n",
              "      <td>0.40</td>\n",
              "      <td>0.006250</td>\n",
              "    </tr>\n",
              "    <tr>\n",
              "      <th>475</th>\n",
              "      <td>0.263158</td>\n",
              "      <td>0.095808</td>\n",
              "      <td>0.049905</td>\n",
              "      <td>1.0</td>\n",
              "      <td>0.045439</td>\n",
              "      <td>0.0</td>\n",
              "      <td>0.0</td>\n",
              "      <td>0.0</td>\n",
              "      <td>0.000000</td>\n",
              "      <td>0.166667</td>\n",
              "      <td>0.0</td>\n",
              "      <td>0.060561</td>\n",
              "      <td>0.654866</td>\n",
              "      <td>1.0</td>\n",
              "      <td>0.0</td>\n",
              "      <td>0.0</td>\n",
              "      <td>0.28</td>\n",
              "      <td>0.087500</td>\n",
              "    </tr>\n",
              "    <tr>\n",
              "      <th>476</th>\n",
              "      <td>0.201579</td>\n",
              "      <td>0.299401</td>\n",
              "      <td>0.000400</td>\n",
              "      <td>1.0</td>\n",
              "      <td>0.000056</td>\n",
              "      <td>0.0</td>\n",
              "      <td>0.0</td>\n",
              "      <td>0.0</td>\n",
              "      <td>0.040816</td>\n",
              "      <td>0.000000</td>\n",
              "      <td>1.0</td>\n",
              "      <td>0.000068</td>\n",
              "      <td>0.559211</td>\n",
              "      <td>0.0</td>\n",
              "      <td>1.0</td>\n",
              "      <td>0.0</td>\n",
              "      <td>0.32</td>\n",
              "      <td>0.307312</td>\n",
              "    </tr>\n",
              "    <tr>\n",
              "      <th>477</th>\n",
              "      <td>0.105263</td>\n",
              "      <td>0.011976</td>\n",
              "      <td>0.000900</td>\n",
              "      <td>1.0</td>\n",
              "      <td>0.000445</td>\n",
              "      <td>0.0</td>\n",
              "      <td>0.0</td>\n",
              "      <td>0.0</td>\n",
              "      <td>0.040816</td>\n",
              "      <td>0.000000</td>\n",
              "      <td>1.0</td>\n",
              "      <td>0.001293</td>\n",
              "      <td>0.646064</td>\n",
              "      <td>0.0</td>\n",
              "      <td>0.0</td>\n",
              "      <td>0.0</td>\n",
              "      <td>0.32</td>\n",
              "      <td>0.018750</td>\n",
              "    </tr>\n",
              "    <tr>\n",
              "      <th>478</th>\n",
              "      <td>0.631579</td>\n",
              "      <td>0.059880</td>\n",
              "      <td>0.000900</td>\n",
              "      <td>1.0</td>\n",
              "      <td>0.000222</td>\n",
              "      <td>0.0</td>\n",
              "      <td>0.0</td>\n",
              "      <td>0.0</td>\n",
              "      <td>0.571429</td>\n",
              "      <td>0.333333</td>\n",
              "      <td>1.0</td>\n",
              "      <td>0.053759</td>\n",
              "      <td>0.637359</td>\n",
              "      <td>0.0</td>\n",
              "      <td>0.0</td>\n",
              "      <td>0.0</td>\n",
              "      <td>0.40</td>\n",
              "      <td>0.006250</td>\n",
              "    </tr>\n",
              "  </tbody>\n",
              "</table>\n",
              "<p>479 rows × 18 columns</p>\n",
              "</div>"
            ],
            "text/plain": [
              "        price  retail_price  units_sold  ...  country__US  tag_count  diff_in_price\n",
              "0    0.250000      0.023952    0.000000  ...          0.0       0.40       0.014063\n",
              "1    0.315789      0.035928    0.049905  ...          0.0       0.52       0.018750\n",
              "2    0.210526      0.089820    0.009901  ...          0.0       0.44       0.087500\n",
              "3    0.894737      0.155689    0.049905  ...          0.0       0.36       0.075000\n",
              "4    0.578947      0.479042    0.199920  ...          0.0       0.16       0.450000\n",
              "..        ...           ...         ...  ...          ...        ...            ...\n",
              "474  0.789474      0.077844    0.000900  ...          0.0       0.40       0.006250\n",
              "475  0.263158      0.095808    0.049905  ...          0.0       0.28       0.087500\n",
              "476  0.201579      0.299401    0.000400  ...          0.0       0.32       0.307312\n",
              "477  0.105263      0.011976    0.000900  ...          0.0       0.32       0.018750\n",
              "478  0.631579      0.059880    0.000900  ...          0.0       0.40       0.006250\n",
              "\n",
              "[479 rows x 18 columns]"
            ]
          },
          "metadata": {
            "tags": []
          },
          "execution_count": 67
        }
      ]
    },
    {
      "cell_type": "code",
      "metadata": {
        "id": "-fJx1MRS9Fc8",
        "outputId": "06814815-4eee-4b80-b027-84af264f1587",
        "colab": {
          "base_uri": "https://localhost:8080/",
          "height": 476
        }
      },
      "source": [
        "print(df_normalized.info())"
      ],
      "execution_count": null,
      "outputs": [
        {
          "output_type": "stream",
          "text": [
            "<class 'pandas.core.frame.DataFrame'>\n",
            "RangeIndex: 1094 entries, 0 to 1093\n",
            "Data columns (total 19 columns):\n",
            " #   Column                        Non-Null Count  Dtype  \n",
            "---  ------                        --------------  -----  \n",
            " 0   price                         1094 non-null   float64\n",
            " 1   retail_price                  1094 non-null   float64\n",
            " 2   units_sold                    1094 non-null   float64\n",
            " 3   uses_ad_boosts                1094 non-null   float64\n",
            " 4   rating                        1094 non-null   float64\n",
            " 5   rating_count                  1094 non-null   float64\n",
            " 6   badges_count                  1094 non-null   float64\n",
            " 7   badge_product_quality         1094 non-null   float64\n",
            " 8   badge_fast_shipping           1094 non-null   float64\n",
            " 9   product_variation_inventory   1094 non-null   float64\n",
            " 10  shipping_option_price         1094 non-null   float64\n",
            " 11  has_urgency_banner            1094 non-null   float64\n",
            " 12  merchant_rating_count         1094 non-null   float64\n",
            " 13  merchant_rating               1094 non-null   float64\n",
            " 14  merchant_has_profile_picture  1094 non-null   float64\n",
            " 15  diff_in_price                 1094 non-null   float64\n",
            " 16  country__Other                1094 non-null   float64\n",
            " 17  country__US                   1094 non-null   float64\n",
            " 18  tag_count                     1094 non-null   float64\n",
            "dtypes: float64(19)\n",
            "memory usage: 162.5 KB\n",
            "None\n"
          ],
          "name": "stdout"
        }
      ]
    },
    {
      "cell_type": "code",
      "metadata": {
        "id": "Gn48oGP9Lx2U",
        "outputId": "e04f75c6-14b1-4285-db96-216cb511f4f6",
        "colab": {
          "base_uri": "https://localhost:8080/",
          "height": 459
        }
      },
      "source": [
        "print(df_normalized_kaggle.info())"
      ],
      "execution_count": null,
      "outputs": [
        {
          "output_type": "stream",
          "text": [
            "<class 'pandas.core.frame.DataFrame'>\n",
            "RangeIndex: 479 entries, 0 to 478\n",
            "Data columns (total 18 columns):\n",
            " #   Column                        Non-Null Count  Dtype  \n",
            "---  ------                        --------------  -----  \n",
            " 0   price                         479 non-null    float64\n",
            " 1   retail_price                  479 non-null    float64\n",
            " 2   units_sold                    479 non-null    float64\n",
            " 3   uses_ad_boosts                479 non-null    float64\n",
            " 4   rating_count                  479 non-null    float64\n",
            " 5   badges_count                  479 non-null    float64\n",
            " 6   badge_product_quality         479 non-null    float64\n",
            " 7   badge_fast_shipping           479 non-null    float64\n",
            " 8   product_variation_inventory   479 non-null    float64\n",
            " 9   shipping_option_price         479 non-null    float64\n",
            " 10  has_urgency_banner            479 non-null    float64\n",
            " 11  merchant_rating_count         479 non-null    float64\n",
            " 12  merchant_rating               479 non-null    float64\n",
            " 13  merchant_has_profile_picture  479 non-null    float64\n",
            " 14  country__Other                479 non-null    float64\n",
            " 15  country__US                   479 non-null    float64\n",
            " 16  tag_count                     479 non-null    float64\n",
            " 17  diff_in_price                 479 non-null    float64\n",
            "dtypes: float64(18)\n",
            "memory usage: 67.5 KB\n",
            "None\n"
          ],
          "name": "stdout"
        }
      ]
    },
    {
      "cell_type": "code",
      "metadata": {
        "id": "_279rfO_JE2o"
      },
      "source": [
        "X_train_kaggle = df_normalized.drop(['rating'], axis = 1)\n",
        "y_train_kaggle = df['rating']\n",
        "X_test_kaggle = df_normalized_kaggle\n"
      ],
      "execution_count": null,
      "outputs": []
    },
    {
      "cell_type": "code",
      "metadata": {
        "id": "8IAjsYuFVTiP"
      },
      "source": [
        "def gen_kaggle_submission(id,y_pred,filename=\"test_out.csv\"):\n",
        "  with open(\"/content/drive/My Drive/\"+filename,\"w\") as file_out:\n",
        "    file_out.write(\"id,rating\\n\")\n",
        "    for i in zip(id,y_pred):\n",
        "      str_out = f\"{i[0]},{i[1]:.1f}\\n\"\n",
        "      file_out.write(str_out)"
      ],
      "execution_count": null,
      "outputs": []
    },
    {
      "cell_type": "code",
      "metadata": {
        "id": "ICm7-fJTzeOu"
      },
      "source": [
        "y_pred_vc_kaggle=voting_cl.predict(X_test_kaggle)\n"
      ],
      "execution_count": null,
      "outputs": []
    },
    {
      "cell_type": "code",
      "metadata": {
        "id": "fctQFJe85EaT"
      },
      "source": [
        "y_pred_vc1_kaggle=voting_cl.predict(X_test_kaggle)"
      ],
      "execution_count": null,
      "outputs": []
    },
    {
      "cell_type": "code",
      "metadata": {
        "id": "IwsHwimf-702"
      },
      "source": [
        "y_pred_vc2_kaggle=voting_cl.predict(X_test_kaggle)"
      ],
      "execution_count": null,
      "outputs": []
    },
    {
      "cell_type": "code",
      "metadata": {
        "id": "WbHhbwbFHK6X"
      },
      "source": [
        "y_pred_rf2_kaggle=classifier_RFC.predict(X_test_kaggle)"
      ],
      "execution_count": null,
      "outputs": []
    },
    {
      "cell_type": "code",
      "metadata": {
        "id": "rMnZPwpK9--R"
      },
      "source": [
        "y_pred_vc3_kaggle=voting_cl.predict(X_test_kaggle)"
      ],
      "execution_count": null,
      "outputs": []
    },
    {
      "cell_type": "code",
      "metadata": {
        "id": "-KR10yRkImQk"
      },
      "source": [
        "voting_cl.fit(X_train_kaggle,y_train_kaggle)\n",
        "y_pred_vc5_kaggle=voting_cl.predict(X_test_kaggle)"
      ],
      "execution_count": null,
      "outputs": []
    },
    {
      "cell_type": "code",
      "metadata": {
        "id": "55SyDJuIJ7ea"
      },
      "source": [
        "\n",
        "\n",
        "\n",
        "voting_cl.fit(X_train_kaggle,y_train_kaggle)\n",
        "y_pred_kaggle=voting_cl.predict(X_test_kaggle)\n",
        "gen_kaggle_submission(test_id, y_pred_kaggle,\"vc.6_out.csv\")\n",
        "\n",
        "voting_cl.fit(X_train_kaggle,y_train_kaggle)\n",
        "y_pred_kaggle=voting_cl.predict(X_test_kaggle)\n",
        "gen_kaggle_submission(test_id, y_pred_kaggle,\"vc.7_out.csv\")\n",
        "\n",
        "voting_cl.fit(X_train_kaggle,y_train_kaggle)\n",
        "y_pred_kaggle=voting_cl.predict(X_test_kaggle)\n",
        "gen_kaggle_submission(test_id, y_pred_kaggle,\"vc.8_out.csv\")\n",
        "\n",
        "voting_cl.fit(X_train_kaggle,y_train_kaggle)\n",
        "y_pred_kaggle=voting_cl.predict(X_test_kaggle)\n",
        "gen_kaggle_submission(test_id, y_pred_kaggle,\"vc.9_out.csv\")\n",
        "\n",
        "voting_cl.fit(X_train_kaggle,y_train_kaggle)\n",
        "y_pred_kaggle=voting_cl.predict(X_test_kaggle)\n",
        "gen_kaggle_submission(test_id, y_pred_kaggle,\"vc.10_out.csv\")\n"
      ],
      "execution_count": null,
      "outputs": []
    },
    {
      "cell_type": "code",
      "metadata": {
        "id": "pRdL5lRaRuxR",
        "outputId": "55e8bc73-6580-41dc-8847-47ab6e70bd38",
        "colab": {
          "base_uri": "https://localhost:8080/",
          "height": 34
        }
      },
      "source": [
        "# print(\"Generating Model output 1(rf)\")\n",
        "# gen_kaggle_submission(test_id, y_pred_RFC_kaggle,\"rf.1_out.csv\")\n",
        "\n",
        "# print(\"Generating Model output 2 (voting classifier)\")\n",
        "# gen_kaggle_submission(test_id, y_pred_vc_kaggle,\"vc.1_out.csv\")\n",
        "\n",
        "# print(\"Generating Model output 3 (voting classifier 2)\")\n",
        "# gen_kaggle_submission(test_id, y_pred_vc_kaggle,\"vc.2_out.csv\")\n",
        "\n",
        "# print(\"Generating Model output 4 (voting classifier 2)\")\n",
        "# gen_kaggle_submission(test_id, y_pred_vc2_kaggle,\"vc.3_out.csv\")\n",
        "\n",
        "# print(\"Generating Model output 5 (random forest 2)\")\n",
        "# gen_kaggle_submission(test_id, y_pred_rf2_kaggle,\"rf.2_out.csv\")\n",
        "\n",
        "#print(\"Generating Model output 6 (voting classifier 3)\")\n",
        "#gen_kaggle_submission(test_id, y_pred_vc3_kaggle,\"vc.3_out.csv\")\n",
        "\n",
        "print(\"Generating Model output 7 (voting classifier 4)\")\n",
        "gen_kaggle_submission(test_id, y_pred_vc5_kaggle,\"vc.5_out.csv\")"
      ],
      "execution_count": null,
      "outputs": [
        {
          "output_type": "stream",
          "text": [
            "Generating Model output 7 (voting classifier 4)\n"
          ],
          "name": "stdout"
        }
      ]
    },
    {
      "cell_type": "code",
      "metadata": {
        "id": "H1KLE9qXA_26",
        "outputId": "c7335b35-c040-4393-8772-5913d8449589",
        "colab": {
          "base_uri": "https://localhost:8080/",
          "height": 357
        }
      },
      "source": [
        "!diff \"/content/drive/My Drive/vc.3_out.csv\" \"/content/drive/My Drive/vc.3_out-new.csv\""
      ],
      "execution_count": null,
      "outputs": [
        {
          "output_type": "stream",
          "text": [
            "62c62\n",
            "< 911,4.0\n",
            "---\n",
            "> 911,5.0\n",
            "193c193\n",
            "< 727,4.0\n",
            "---\n",
            "> 727,3.0\n",
            "331c331\n",
            "< 736,4.0\n",
            "---\n",
            "> 736,5.0\n",
            "368c368\n",
            "< 1115,4.0\n",
            "---\n",
            "> 1115,3.0\n",
            "397c397\n",
            "< 1359,4.0\n",
            "---\n",
            "> 1359,5.0\n"
          ],
          "name": "stdout"
        }
      ]
    }
  ]
}